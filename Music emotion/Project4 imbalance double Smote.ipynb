{
 "cells": [
  {
   "cell_type": "code",
   "execution_count": 1,
   "metadata": {},
   "outputs": [],
   "source": [
    "import numpy as np\n",
    "import pandas as pd\n",
    "import matplotlib.pyplot as plt\n",
    "import seaborn as sns\n",
    "\n",
    "%matplotlib inline\n",
    "\n",
    "import os\n",
    "import warnings\n",
    "warnings.filterwarnings('ignore')"
   ]
  },
  {
   "cell_type": "code",
   "execution_count": 2,
   "metadata": {},
   "outputs": [],
   "source": [
    "dataset = pd.read_csv('D:\\Semester\\SEM 4\\Emotion_features.csv')"
   ]
  },
  {
   "cell_type": "code",
   "execution_count": 3,
   "metadata": {},
   "outputs": [
    {
     "data": {
      "text/html": [
       "<div>\n",
       "<style scoped>\n",
       "    .dataframe tbody tr th:only-of-type {\n",
       "        vertical-align: middle;\n",
       "    }\n",
       "\n",
       "    .dataframe tbody tr th {\n",
       "        vertical-align: top;\n",
       "    }\n",
       "\n",
       "    .dataframe thead th {\n",
       "        text-align: right;\n",
       "    }\n",
       "</style>\n",
       "<table border=\"1\" class=\"dataframe\">\n",
       "  <thead>\n",
       "    <tr style=\"text-align: right;\">\n",
       "      <th></th>\n",
       "      <th>id</th>\n",
       "      <th>song_name</th>\n",
       "      <th>class</th>\n",
       "      <th>label</th>\n",
       "      <th>tempo</th>\n",
       "      <th>total_beats</th>\n",
       "      <th>average_beats</th>\n",
       "      <th>chroma_stft_mean</th>\n",
       "      <th>chroma_stft_std</th>\n",
       "      <th>chroma_stft_var</th>\n",
       "      <th>...</th>\n",
       "      <th>zcr_var</th>\n",
       "      <th>harm_mean</th>\n",
       "      <th>harm_std</th>\n",
       "      <th>harm_var</th>\n",
       "      <th>perc_mean</th>\n",
       "      <th>perc_std</th>\n",
       "      <th>perc_var</th>\n",
       "      <th>frame_mean</th>\n",
       "      <th>frame_std</th>\n",
       "      <th>frame_var</th>\n",
       "    </tr>\n",
       "  </thead>\n",
       "  <tbody>\n",
       "    <tr>\n",
       "      <th>0</th>\n",
       "      <td>1</td>\n",
       "      <td>30 seconds to Mars - Night of the Hunter.mp3</td>\n",
       "      <td>relax</td>\n",
       "      <td>3</td>\n",
       "      <td>117.453835</td>\n",
       "      <td>139925</td>\n",
       "      <td>1283.715596</td>\n",
       "      <td>0.422269</td>\n",
       "      <td>0.293326</td>\n",
       "      <td>0.086040</td>\n",
       "      <td>...</td>\n",
       "      <td>0.007792</td>\n",
       "      <td>0.000001</td>\n",
       "      <td>0.131658</td>\n",
       "      <td>0.017334</td>\n",
       "      <td>0.000142</td>\n",
       "      <td>0.095362</td>\n",
       "      <td>0.009094</td>\n",
       "      <td>4.221388</td>\n",
       "      <td>1.601396</td>\n",
       "      <td>2.564469</td>\n",
       "    </tr>\n",
       "    <tr>\n",
       "      <th>1</th>\n",
       "      <td>2</td>\n",
       "      <td>Absolutely - Story of A Girl.mp3</td>\n",
       "      <td>sad</td>\n",
       "      <td>1</td>\n",
       "      <td>129.199219</td>\n",
       "      <td>159877</td>\n",
       "      <td>1268.865079</td>\n",
       "      <td>0.425321</td>\n",
       "      <td>0.289704</td>\n",
       "      <td>0.083929</td>\n",
       "      <td>...</td>\n",
       "      <td>0.008534</td>\n",
       "      <td>-0.000003</td>\n",
       "      <td>0.169204</td>\n",
       "      <td>0.028630</td>\n",
       "      <td>0.000006</td>\n",
       "      <td>0.099145</td>\n",
       "      <td>0.009830</td>\n",
       "      <td>3.246150</td>\n",
       "      <td>1.885735</td>\n",
       "      <td>3.555996</td>\n",
       "    </tr>\n",
       "    <tr>\n",
       "      <th>2</th>\n",
       "      <td>3</td>\n",
       "      <td>Ace - Futureland.mp3</td>\n",
       "      <td>happy</td>\n",
       "      <td>2</td>\n",
       "      <td>99.384014</td>\n",
       "      <td>121594</td>\n",
       "      <td>1253.546392</td>\n",
       "      <td>0.487377</td>\n",
       "      <td>0.268670</td>\n",
       "      <td>0.072184</td>\n",
       "      <td>...</td>\n",
       "      <td>0.006199</td>\n",
       "      <td>0.000019</td>\n",
       "      <td>0.206916</td>\n",
       "      <td>0.042814</td>\n",
       "      <td>-0.000077</td>\n",
       "      <td>0.115425</td>\n",
       "      <td>0.013323</td>\n",
       "      <td>3.989188</td>\n",
       "      <td>1.766115</td>\n",
       "      <td>3.119163</td>\n",
       "    </tr>\n",
       "    <tr>\n",
       "      <th>3</th>\n",
       "      <td>4</td>\n",
       "      <td>Alan Walker - Faded.mp3</td>\n",
       "      <td>sad</td>\n",
       "      <td>1</td>\n",
       "      <td>89.102909</td>\n",
       "      <td>113611</td>\n",
       "      <td>1291.034091</td>\n",
       "      <td>0.292934</td>\n",
       "      <td>0.295695</td>\n",
       "      <td>0.087435</td>\n",
       "      <td>...</td>\n",
       "      <td>0.002483</td>\n",
       "      <td>-0.000020</td>\n",
       "      <td>0.184177</td>\n",
       "      <td>0.033921</td>\n",
       "      <td>-0.000003</td>\n",
       "      <td>0.055471</td>\n",
       "      <td>0.003077</td>\n",
       "      <td>3.423782</td>\n",
       "      <td>1.922333</td>\n",
       "      <td>3.695364</td>\n",
       "    </tr>\n",
       "    <tr>\n",
       "      <th>4</th>\n",
       "      <td>5</td>\n",
       "      <td>Alan Walker - Force [Instrumental].mp3</td>\n",
       "      <td>relax</td>\n",
       "      <td>3</td>\n",
       "      <td>198.768029</td>\n",
       "      <td>252770</td>\n",
       "      <td>1404.277778</td>\n",
       "      <td>0.286669</td>\n",
       "      <td>0.300049</td>\n",
       "      <td>0.090029</td>\n",
       "      <td>...</td>\n",
       "      <td>0.002977</td>\n",
       "      <td>0.000014</td>\n",
       "      <td>0.147811</td>\n",
       "      <td>0.021848</td>\n",
       "      <td>0.000307</td>\n",
       "      <td>0.048204</td>\n",
       "      <td>0.002324</td>\n",
       "      <td>9.637442</td>\n",
       "      <td>7.344525</td>\n",
       "      <td>53.942050</td>\n",
       "    </tr>\n",
       "  </tbody>\n",
       "</table>\n",
       "<p>5 rows × 58 columns</p>\n",
       "</div>"
      ],
      "text/plain": [
       "   id                                     song_name  class  label       tempo  \\\n",
       "0   1  30 seconds to Mars - Night of the Hunter.mp3  relax      3  117.453835   \n",
       "1   2              Absolutely - Story of A Girl.mp3    sad      1  129.199219   \n",
       "2   3                          Ace - Futureland.mp3  happy      2   99.384014   \n",
       "3   4                       Alan Walker - Faded.mp3    sad      1   89.102909   \n",
       "4   5        Alan Walker - Force [Instrumental].mp3  relax      3  198.768029   \n",
       "\n",
       "   total_beats  average_beats  chroma_stft_mean  chroma_stft_std  \\\n",
       "0       139925    1283.715596          0.422269         0.293326   \n",
       "1       159877    1268.865079          0.425321         0.289704   \n",
       "2       121594    1253.546392          0.487377         0.268670   \n",
       "3       113611    1291.034091          0.292934         0.295695   \n",
       "4       252770    1404.277778          0.286669         0.300049   \n",
       "\n",
       "   chroma_stft_var  ...   zcr_var  harm_mean  harm_std  harm_var  perc_mean  \\\n",
       "0         0.086040  ...  0.007792   0.000001  0.131658  0.017334   0.000142   \n",
       "1         0.083929  ...  0.008534  -0.000003  0.169204  0.028630   0.000006   \n",
       "2         0.072184  ...  0.006199   0.000019  0.206916  0.042814  -0.000077   \n",
       "3         0.087435  ...  0.002483  -0.000020  0.184177  0.033921  -0.000003   \n",
       "4         0.090029  ...  0.002977   0.000014  0.147811  0.021848   0.000307   \n",
       "\n",
       "   perc_std  perc_var  frame_mean  frame_std  frame_var  \n",
       "0  0.095362  0.009094    4.221388   1.601396   2.564469  \n",
       "1  0.099145  0.009830    3.246150   1.885735   3.555996  \n",
       "2  0.115425  0.013323    3.989188   1.766115   3.119163  \n",
       "3  0.055471  0.003077    3.423782   1.922333   3.695364  \n",
       "4  0.048204  0.002324    9.637442   7.344525  53.942050  \n",
       "\n",
       "[5 rows x 58 columns]"
      ]
     },
     "execution_count": 3,
     "metadata": {},
     "output_type": "execute_result"
    }
   ],
   "source": [
    "dataset.head()"
   ]
  },
  {
   "cell_type": "markdown",
   "metadata": {},
   "source": [
    "1 - Sad       \n",
    "2 - Happy      \n",
    "3 - Relax     \n",
    "        4 - Angry "
   ]
  },
  {
   "cell_type": "code",
   "execution_count": 4,
   "metadata": {},
   "outputs": [
    {
     "name": "stdout",
     "output_type": "stream",
     "text": [
      "<class 'pandas.core.frame.DataFrame'>\n",
      "RangeIndex: 75 entries, 0 to 74\n",
      "Data columns (total 58 columns):\n",
      " #   Column               Non-Null Count  Dtype  \n",
      "---  ------               --------------  -----  \n",
      " 0   id                   75 non-null     int64  \n",
      " 1   song_name            75 non-null     object \n",
      " 2   class                75 non-null     object \n",
      " 3   label                75 non-null     int64  \n",
      " 4   tempo                75 non-null     float64\n",
      " 5   total_beats          75 non-null     int64  \n",
      " 6   average_beats        75 non-null     float64\n",
      " 7   chroma_stft_mean     75 non-null     float64\n",
      " 8   chroma_stft_std      75 non-null     float64\n",
      " 9   chroma_stft_var      75 non-null     float64\n",
      " 10  chroma_cq_mean       75 non-null     float64\n",
      " 11  chroma_cq_std        75 non-null     float64\n",
      " 12  chroma_cq_var        75 non-null     float64\n",
      " 13  chroma_cens_mean     75 non-null     float64\n",
      " 14  chroma_cens_std      75 non-null     float64\n",
      " 15  chroma_cens_var      75 non-null     float64\n",
      " 16  melspectrogram_mean  75 non-null     float64\n",
      " 17  melspectrogram_std   75 non-null     float64\n",
      " 18  melspectrogram_var   75 non-null     float64\n",
      " 19  mfcc_mean            75 non-null     float64\n",
      " 20  mfcc_std             75 non-null     float64\n",
      " 21  mfcc_var             75 non-null     float64\n",
      " 22  mfcc_delta_mean      75 non-null     float64\n",
      " 23  mfcc_delta_std       75 non-null     float64\n",
      " 24  mfcc_delta_var       75 non-null     float64\n",
      " 25  rmse_mean            75 non-null     float64\n",
      " 26  rmse_std             75 non-null     float64\n",
      " 27  rmse_var             75 non-null     float64\n",
      " 28  cent_mean            75 non-null     float64\n",
      " 29  cent_std             75 non-null     float64\n",
      " 30  cent_var             75 non-null     float64\n",
      " 31  spec_bw_mean         75 non-null     float64\n",
      " 32  spec_bw_std          75 non-null     float64\n",
      " 33  spec_bw_var          75 non-null     float64\n",
      " 34  contrast_mean        75 non-null     float64\n",
      " 35  contrast_std         75 non-null     float64\n",
      " 36  contrast_var         75 non-null     float64\n",
      " 37  rolloff_mean         75 non-null     float64\n",
      " 38  rolloff_std          75 non-null     float64\n",
      " 39  rolloff_var          75 non-null     float64\n",
      " 40  poly_mean            75 non-null     float64\n",
      " 41  poly_std             75 non-null     float64\n",
      " 42  poly_var             75 non-null     float64\n",
      " 43  tonnetz_mean         75 non-null     float64\n",
      " 44  tonnetz_std          75 non-null     float64\n",
      " 45  tonnetz_var          75 non-null     float64\n",
      " 46  zcr_mean             75 non-null     float64\n",
      " 47  zcr_std              75 non-null     float64\n",
      " 48  zcr_var              75 non-null     float64\n",
      " 49  harm_mean            75 non-null     float64\n",
      " 50  harm_std             75 non-null     float64\n",
      " 51  harm_var             75 non-null     float64\n",
      " 52  perc_mean            75 non-null     float64\n",
      " 53  perc_std             75 non-null     float64\n",
      " 54  perc_var             75 non-null     float64\n",
      " 55  frame_mean           75 non-null     float64\n",
      " 56  frame_std            75 non-null     float64\n",
      " 57  frame_var            75 non-null     float64\n",
      "dtypes: float64(53), int64(3), object(2)\n",
      "memory usage: 34.1+ KB\n"
     ]
    }
   ],
   "source": [
    "dataset.info()"
   ]
  },
  {
   "cell_type": "code",
   "execution_count": 5,
   "metadata": {},
   "outputs": [
    {
     "data": {
      "text/plain": [
       "(75, 58)"
      ]
     },
     "execution_count": 5,
     "metadata": {},
     "output_type": "execute_result"
    }
   ],
   "source": [
    "dataset.shape"
   ]
  },
  {
   "cell_type": "code",
   "execution_count": 6,
   "metadata": {},
   "outputs": [
    {
     "data": {
      "text/plain": [
       "count        75\n",
       "unique        4\n",
       "top       happy\n",
       "freq         25\n",
       "Name: class, dtype: object"
      ]
     },
     "execution_count": 6,
     "metadata": {},
     "output_type": "execute_result"
    }
   ],
   "source": [
    "dataset['class'].describe()"
   ]
  },
  {
   "cell_type": "code",
   "execution_count": 7,
   "metadata": {},
   "outputs": [
    {
     "data": {
      "text/plain": [
       "array(['relax', 'sad', 'happy', 'angry'], dtype=object)"
      ]
     },
     "execution_count": 7,
     "metadata": {},
     "output_type": "execute_result"
    }
   ],
   "source": [
    "dataset[\"class\"].unique()"
   ]
  },
  {
   "cell_type": "markdown",
   "metadata": {},
   "source": [
    "Correlation"
   ]
  },
  {
   "cell_type": "code",
   "execution_count": 9,
   "metadata": {},
   "outputs": [
    {
     "name": "stdout",
     "output_type": "stream",
     "text": [
      "label                  1.000000\n",
      "chroma_stft_mean       0.398708\n",
      "contrast_mean          0.396730\n",
      "tonnetz_std            0.391225\n",
      "tonnetz_var            0.377318\n",
      "chroma_cens_std        0.372121\n",
      "chroma_cens_var        0.369683\n",
      "chroma_cq_mean         0.368606\n",
      "chroma_cens_mean       0.363385\n",
      "melspectrogram_mean    0.340947\n",
      "poly_std               0.332819\n",
      "poly_mean              0.328712\n",
      "harm_var               0.327513\n",
      "chroma_cq_std          0.325405\n",
      "poly_var               0.324941\n",
      "chroma_cq_var          0.321206\n",
      "rmse_mean              0.319575\n",
      "melspectrogram_std     0.314458\n",
      "perc_std               0.304244\n",
      "mfcc_mean              0.297226\n",
      "harm_std               0.297069\n",
      "melspectrogram_var     0.266327\n",
      "perc_var               0.265060\n",
      "mfcc_std               0.258430\n",
      "rmse_std               0.257853\n",
      "mfcc_var               0.248526\n",
      "rmse_var               0.247372\n",
      "frame_mean             0.202871\n",
      "mfcc_delta_mean        0.170210\n",
      "frame_std              0.169977\n",
      "chroma_stft_var        0.163213\n",
      "chroma_stft_std        0.163186\n",
      "cent_var               0.159898\n",
      "cent_std               0.143837\n",
      "rolloff_var            0.136949\n",
      "contrast_std           0.134672\n",
      "rolloff_mean           0.133298\n",
      "frame_var              0.133021\n",
      "rolloff_std            0.131146\n",
      "cent_mean              0.115597\n",
      "spec_bw_mean           0.113540\n",
      "spec_bw_std            0.112551\n",
      "contrast_var           0.105112\n",
      "zcr_var                0.103805\n",
      "spec_bw_var            0.098768\n",
      "tonnetz_mean           0.093699\n",
      "zcr_std                0.078459\n",
      "id                     0.052084\n",
      "harm_mean              0.025113\n",
      "total_beats            0.020816\n",
      "perc_mean              0.020045\n",
      "mfcc_delta_var         0.018023\n",
      "tempo                  0.014307\n",
      "zcr_mean               0.012163\n",
      "mfcc_delta_std         0.006541\n",
      "average_beats          0.005543\n",
      "Name: label, dtype: float64\n"
     ]
    }
   ],
   "source": [
    "print(dataset.corr()[\"label\"].abs().sort_values(ascending=False))"
   ]
  },
  {
   "cell_type": "code",
   "execution_count": 10,
   "metadata": {},
   "outputs": [
    {
     "name": "stdout",
     "output_type": "stream",
     "text": [
      "2    25\n",
      "1    23\n",
      "4    16\n",
      "3    11\n",
      "Name: label, dtype: int64\n"
     ]
    },
    {
     "data": {
      "image/png": "[encoded data removed]",
      "text/plain": [
       "<Figure size 432x288 with 1 Axes>"
      ]
     },
     "metadata": {
      "needs_background": "light"
     },
     "output_type": "display_data"
    }
   ],
   "source": [
    "y = dataset[\"class\"]\n",
    "\n",
    "sns.countplot(y)\n",
    "\n",
    "\n",
    "target_temp = dataset.label.value_counts()\n",
    "\n",
    "print(target_temp)"
   ]
  },
  {
   "cell_type": "code",
   "execution_count": 11,
   "metadata": {},
   "outputs": [
    {
     "data": {
      "text/plain": [
       "2    25\n",
       "1    23\n",
       "4    16\n",
       "3    11\n",
       "Name: label, dtype: int64"
      ]
     },
     "execution_count": 11,
     "metadata": {},
     "output_type": "execute_result"
    }
   ],
   "source": [
    "target_temp"
   ]
  },
  {
   "cell_type": "code",
   "execution_count": 12,
   "metadata": {},
   "outputs": [
    {
     "name": "stdout",
     "output_type": "stream",
     "text": [
      "Percentage of Sad songs  : 30.67\n",
      "Percentage of happy songs : 33.33\n",
      "Percentage of Relax songs : 14.67\n",
      "Percentage of Angry songs : 21.33\n"
     ]
    }
   ],
   "source": [
    "print(\"Percentage of Sad songs  : \" +str(round(target_temp[1]*100/75,2)))\n",
    "print(\"Percentage of happy songs : \" +str(round(target_temp[2]*100/75,2)))\n",
    "print(\"Percentage of Relax songs : \" +str(round(target_temp[3]*100/75,2)))\n",
    "print(\"Percentage of Angry songs : \" +str(round(target_temp[4]*100/75,2)))"
   ]
  },
  {
   "cell_type": "markdown",
   "metadata": {},
   "source": [
    "Train "
   ]
  },
  {
   "cell_type": "markdown",
   "metadata": {},
   "source": [
    "Smote"
   ]
  },
  {
   "cell_type": "code",
   "execution_count": 14,
   "metadata": {},
   "outputs": [],
   "source": [
    "predictors = dataset.loc[:,'tempo':]\n",
    "target = dataset[\"class\"]\n"
   ]
  },
  {
   "cell_type": "code",
   "execution_count": 15,
   "metadata": {},
   "outputs": [
    {
     "data": {
      "text/plain": [
       "angry    25\n",
       "relax    25\n",
       "happy    25\n",
       "sad      23\n",
       "Name: class, dtype: int64"
      ]
     },
     "execution_count": 15,
     "metadata": {},
     "output_type": "execute_result"
    }
   ],
   "source": [
    "from imblearn.over_sampling import SMOTE\n",
    "\n",
    "smote = SMOTE(sampling_strategy='minority')\n",
    "x_sm1, y_sm1 = smote.fit_sample(predictors,target)\n",
    "X_sm, y_sm = smote.fit_sample(x_sm1,y_sm1)\n",
    "y_sm.value_counts()"
   ]
  },
  {
   "cell_type": "code",
   "execution_count": 16,
   "metadata": {},
   "outputs": [],
   "source": [
    "from sklearn.model_selection import train_test_split\n",
    "\n",
    "predictors = dataset.loc[:,'tempo':]\n",
    "target = dataset[\"class\"]\n",
    "\n",
    "X_train,X_test,Y_train,Y_test = train_test_split(X_sm,y_sm,test_size=0.25,random_state=15,stratify=y_sm)"
   ]
  },
  {
   "cell_type": "code",
   "execution_count": 17,
   "metadata": {},
   "outputs": [
    {
     "data": {
      "text/plain": [
       "(73, 54)"
      ]
     },
     "execution_count": 17,
     "metadata": {},
     "output_type": "execute_result"
    }
   ],
   "source": [
    "X_train.shape"
   ]
  },
  {
   "cell_type": "code",
   "execution_count": 18,
   "metadata": {},
   "outputs": [
    {
     "data": {
      "text/plain": [
       "(25, 54)"
      ]
     },
     "execution_count": 18,
     "metadata": {},
     "output_type": "execute_result"
    }
   ],
   "source": [
    "X_test.shape"
   ]
  },
  {
   "cell_type": "code",
   "execution_count": 19,
   "metadata": {},
   "outputs": [
    {
     "data": {
      "text/plain": [
       "(73,)"
      ]
     },
     "execution_count": 19,
     "metadata": {},
     "output_type": "execute_result"
    }
   ],
   "source": [
    "Y_train.shape"
   ]
  },
  {
   "cell_type": "code",
   "execution_count": 20,
   "metadata": {},
   "outputs": [
    {
     "data": {
      "text/plain": [
       "(25,)"
      ]
     },
     "execution_count": 20,
     "metadata": {},
     "output_type": "execute_result"
    }
   ],
   "source": [
    "Y_test.shape"
   ]
  },
  {
   "cell_type": "markdown",
   "metadata": {},
   "source": [
    "Model Fitting"
   ]
  },
  {
   "cell_type": "code",
   "execution_count": 19,
   "metadata": {},
   "outputs": [],
   "source": [
    "from sklearn.metrics import accuracy_score"
   ]
  },
  {
   "cell_type": "markdown",
   "metadata": {},
   "source": [
    "Random Forest"
   ]
  },
  {
   "cell_type": "code",
   "execution_count": 20,
   "metadata": {},
   "outputs": [
    {
     "name": "stdout",
     "output_type": "stream",
     "text": [
      "84.0\n",
      "26\n"
     ]
    }
   ],
   "source": [
    "from sklearn.ensemble import RandomForestClassifier\n",
    "\n",
    "max_accuracy = 0\n",
    "\n",
    "\n",
    "for x in range(2000):\n",
    "    rf = RandomForestClassifier(random_state=x)\n",
    "    rf.fit(X_train,Y_train)\n",
    "    Y_pred_rf = rf.predict(X_test)\n",
    "    current_accuracy = round(accuracy_score(Y_pred_rf,Y_test)*100,2)\n",
    "    if(current_accuracy>max_accuracy):\n",
    "        max_accuracy = current_accuracy\n",
    "        best_x = x\n",
    "        \n",
    "print(max_accuracy)\n",
    "print(best_x)\n",
    "\n",
    "rf = RandomForestClassifier(random_state=best_x)\n",
    "rf.fit(X_train,Y_train)\n",
    "Y_pred_rf = rf.predict(X_test)"
   ]
  },
  {
   "cell_type": "code",
   "execution_count": 21,
   "metadata": {},
   "outputs": [
    {
     "data": {
      "text/plain": [
       "(25,)"
      ]
     },
     "execution_count": 21,
     "metadata": {},
     "output_type": "execute_result"
    }
   ],
   "source": [
    "Y_pred_rf.shape"
   ]
  },
  {
   "cell_type": "code",
   "execution_count": 22,
   "metadata": {},
   "outputs": [
    {
     "name": "stdout",
     "output_type": "stream",
     "text": [
      "The accuracy score achieved using Decision Tree is: 84.0 %\n"
     ]
    }
   ],
   "source": [
    "\n",
    "score_rf = round(accuracy_score(Y_pred_rf,Y_test)*100,2)\n",
    "\n",
    "print(\"The accuracy score achieved using Decision Tree is: \"+str(score_rf)+\" %\")"
   ]
  },
  {
   "cell_type": "markdown",
   "metadata": {},
   "source": [
    "Extracting CSV"
   ]
  },
  {
   "cell_type": "code",
   "execution_count": 23,
   "metadata": {},
   "outputs": [],
   "source": [
    "df= pd.read_csv('Emotion_features_extract.csv')\n",
    "fture = df.loc[:, 'tempo':]\n",
    "ftureName = list(fture)\n"
   ]
  },
  {
   "cell_type": "code",
   "execution_count": 24,
   "metadata": {},
   "outputs": [
    {
     "data": {
      "text/html": [
       "<div>\n",
       "<style scoped>\n",
       "    .dataframe tbody tr th:only-of-type {\n",
       "        vertical-align: middle;\n",
       "    }\n",
       "\n",
       "    .dataframe tbody tr th {\n",
       "        vertical-align: top;\n",
       "    }\n",
       "\n",
       "    .dataframe thead th {\n",
       "        text-align: right;\n",
       "    }\n",
       "</style>\n",
       "<table border=\"1\" class=\"dataframe\">\n",
       "  <thead>\n",
       "    <tr style=\"text-align: right;\">\n",
       "      <th></th>\n",
       "      <th>tempo</th>\n",
       "      <th>total_beats</th>\n",
       "      <th>average_beats</th>\n",
       "      <th>chroma_stft_mean</th>\n",
       "      <th>chroma_stft_std</th>\n",
       "      <th>chroma_stft_var</th>\n",
       "      <th>chroma_cq_mean</th>\n",
       "      <th>chroma_cq_std</th>\n",
       "      <th>chroma_cq_var</th>\n",
       "      <th>chroma_cens_mean</th>\n",
       "      <th>...</th>\n",
       "      <th>zcr_var</th>\n",
       "      <th>harm_mean</th>\n",
       "      <th>harm_std</th>\n",
       "      <th>harm_var</th>\n",
       "      <th>perc_mean</th>\n",
       "      <th>perc_std</th>\n",
       "      <th>perc_var</th>\n",
       "      <th>frame_mean</th>\n",
       "      <th>frame_std</th>\n",
       "      <th>frame_var</th>\n",
       "    </tr>\n",
       "  </thead>\n",
       "  <tbody>\n",
       "    <tr>\n",
       "      <th>0</th>\n",
       "      <td>0.571759</td>\n",
       "      <td>0.652573</td>\n",
       "      <td>0.319039</td>\n",
       "      <td>0.274588</td>\n",
       "      <td>0.487642</td>\n",
       "      <td>0.456309</td>\n",
       "      <td>0.248680</td>\n",
       "      <td>0.457973</td>\n",
       "      <td>0.416648</td>\n",
       "      <td>0.452334</td>\n",
       "      <td>...</td>\n",
       "      <td>0.325239</td>\n",
       "      <td>0.695645</td>\n",
       "      <td>0.602880</td>\n",
       "      <td>0.374820</td>\n",
       "      <td>0.414739</td>\n",
       "      <td>0.469630</td>\n",
       "      <td>0.247359</td>\n",
       "      <td>0.056487</td>\n",
       "      <td>0.093822</td>\n",
       "      <td>0.024119</td>\n",
       "    </tr>\n",
       "    <tr>\n",
       "      <th>1</th>\n",
       "      <td>0.794444</td>\n",
       "      <td>0.769003</td>\n",
       "      <td>1.000000</td>\n",
       "      <td>1.000000</td>\n",
       "      <td>0.000000</td>\n",
       "      <td>0.000000</td>\n",
       "      <td>1.000000</td>\n",
       "      <td>0.000000</td>\n",
       "      <td>0.000000</td>\n",
       "      <td>1.000000</td>\n",
       "      <td>...</td>\n",
       "      <td>0.165833</td>\n",
       "      <td>0.662240</td>\n",
       "      <td>0.000000</td>\n",
       "      <td>0.000000</td>\n",
       "      <td>0.337370</td>\n",
       "      <td>0.000000</td>\n",
       "      <td>0.000000</td>\n",
       "      <td>1.000000</td>\n",
       "      <td>1.000000</td>\n",
       "      <td>1.000000</td>\n",
       "    </tr>\n",
       "    <tr>\n",
       "      <th>2</th>\n",
       "      <td>0.126389</td>\n",
       "      <td>0.139302</td>\n",
       "      <td>0.306506</td>\n",
       "      <td>0.162971</td>\n",
       "      <td>0.535894</td>\n",
       "      <td>0.504704</td>\n",
       "      <td>0.142575</td>\n",
       "      <td>0.744711</td>\n",
       "      <td>0.713062</td>\n",
       "      <td>0.260771</td>\n",
       "      <td>...</td>\n",
       "      <td>0.245454</td>\n",
       "      <td>0.692909</td>\n",
       "      <td>0.533585</td>\n",
       "      <td>0.296517</td>\n",
       "      <td>0.395922</td>\n",
       "      <td>0.384339</td>\n",
       "      <td>0.173183</td>\n",
       "      <td>0.182599</td>\n",
       "      <td>0.313671</td>\n",
       "      <td>0.137172</td>\n",
       "    </tr>\n",
       "    <tr>\n",
       "      <th>3</th>\n",
       "      <td>0.149425</td>\n",
       "      <td>0.145005</td>\n",
       "      <td>0.401787</td>\n",
       "      <td>0.120629</td>\n",
       "      <td>0.499835</td>\n",
       "      <td>0.468482</td>\n",
       "      <td>0.159102</td>\n",
       "      <td>0.633984</td>\n",
       "      <td>0.595354</td>\n",
       "      <td>0.319772</td>\n",
       "      <td>...</td>\n",
       "      <td>0.130375</td>\n",
       "      <td>0.695268</td>\n",
       "      <td>0.378262</td>\n",
       "      <td>0.154237</td>\n",
       "      <td>0.399305</td>\n",
       "      <td>0.254712</td>\n",
       "      <td>0.085309</td>\n",
       "      <td>0.167765</td>\n",
       "      <td>0.097772</td>\n",
       "      <td>0.025451</td>\n",
       "    </tr>\n",
       "    <tr>\n",
       "      <th>4</th>\n",
       "      <td>0.460417</td>\n",
       "      <td>0.528811</td>\n",
       "      <td>0.308528</td>\n",
       "      <td>0.357317</td>\n",
       "      <td>0.449425</td>\n",
       "      <td>0.418394</td>\n",
       "      <td>0.283933</td>\n",
       "      <td>0.829579</td>\n",
       "      <td>0.806043</td>\n",
       "      <td>0.369703</td>\n",
       "      <td>...</td>\n",
       "      <td>0.341475</td>\n",
       "      <td>0.689324</td>\n",
       "      <td>0.563800</td>\n",
       "      <td>0.329535</td>\n",
       "      <td>0.422608</td>\n",
       "      <td>0.586890</td>\n",
       "      <td>0.370533</td>\n",
       "      <td>0.173275</td>\n",
       "      <td>0.286409</td>\n",
       "      <td>0.118849</td>\n",
       "    </tr>\n",
       "  </tbody>\n",
       "</table>\n",
       "<p>5 rows × 54 columns</p>\n",
       "</div>"
      ],
      "text/plain": [
       "      tempo  total_beats  average_beats  chroma_stft_mean  chroma_stft_std  \\\n",
       "0  0.571759     0.652573       0.319039          0.274588         0.487642   \n",
       "1  0.794444     0.769003       1.000000          1.000000         0.000000   \n",
       "2  0.126389     0.139302       0.306506          0.162971         0.535894   \n",
       "3  0.149425     0.145005       0.401787          0.120629         0.499835   \n",
       "4  0.460417     0.528811       0.308528          0.357317         0.449425   \n",
       "\n",
       "   chroma_stft_var  chroma_cq_mean  chroma_cq_std  chroma_cq_var  \\\n",
       "0         0.456309        0.248680       0.457973       0.416648   \n",
       "1         0.000000        1.000000       0.000000       0.000000   \n",
       "2         0.504704        0.142575       0.744711       0.713062   \n",
       "3         0.468482        0.159102       0.633984       0.595354   \n",
       "4         0.418394        0.283933       0.829579       0.806043   \n",
       "\n",
       "   chroma_cens_mean  ...   zcr_var  harm_mean  harm_std  harm_var  perc_mean  \\\n",
       "0          0.452334  ...  0.325239   0.695645  0.602880  0.374820   0.414739   \n",
       "1          1.000000  ...  0.165833   0.662240  0.000000  0.000000   0.337370   \n",
       "2          0.260771  ...  0.245454   0.692909  0.533585  0.296517   0.395922   \n",
       "3          0.319772  ...  0.130375   0.695268  0.378262  0.154237   0.399305   \n",
       "4          0.369703  ...  0.341475   0.689324  0.563800  0.329535   0.422608   \n",
       "\n",
       "   perc_std  perc_var  frame_mean  frame_std  frame_var  \n",
       "0  0.469630  0.247359    0.056487   0.093822   0.024119  \n",
       "1  0.000000  0.000000    1.000000   1.000000   1.000000  \n",
       "2  0.384339  0.173183    0.182599   0.313671   0.137172  \n",
       "3  0.254712  0.085309    0.167765   0.097772   0.025451  \n",
       "4  0.586890  0.370533    0.173275   0.286409   0.118849  \n",
       "\n",
       "[5 rows x 54 columns]"
      ]
     },
     "execution_count": 24,
     "metadata": {},
     "output_type": "execute_result"
    }
   ],
   "source": [
    "for name in ftureName:\n",
    "    fture[name] = (fture[name] - fture[name].min()) / (fture[name].max() - fture[name].min())\n",
    "ftures = fture.values\n",
    "fture.head()"
   ]
  },
  {
   "cell_type": "markdown",
   "metadata": {},
   "source": [
    "Predicting Our MUSIC"
   ]
  },
  {
   "cell_type": "code",
   "execution_count": 31,
   "metadata": {},
   "outputs": [
    {
     "data": {
      "text/plain": [
       "array([3, 3, 3, 3, 3, 3, 3, 3, 3, 3, 3, 3, 3, 3, 3, 3, 3, 3, 1, 3, 3, 3,\n",
       "       3, 3, 3, 1, 3, 3, 1, 3, 3, 3, 3, 3, 3, 3, 3, 3, 1, 3, 3, 3, 3, 1,\n",
       "       3, 3, 3, 3, 3, 3, 3, 3, 3, 3, 3, 3, 3, 3, 3, 3, 3, 3, 3, 3, 3, 3,\n",
       "       3, 3, 3, 3], dtype=int64)"
      ]
     },
     "execution_count": 31,
     "metadata": {},
     "output_type": "execute_result"
    }
   ],
   "source": [
    "df_pre = rf.predict(fture)\n",
    "df_pre"
   ]
  },
  {
   "cell_type": "code",
   "execution_count": 32,
   "metadata": {},
   "outputs": [],
   "source": [
    "df_predicted = pd.DataFrame(df_pre,columns=['label'])"
   ]
  },
  {
   "cell_type": "code",
   "execution_count": 33,
   "metadata": {},
   "outputs": [
    {
     "data": {
      "text/html": [
       "<div>\n",
       "<style scoped>\n",
       "    .dataframe tbody tr th:only-of-type {\n",
       "        vertical-align: middle;\n",
       "    }\n",
       "\n",
       "    .dataframe tbody tr th {\n",
       "        vertical-align: top;\n",
       "    }\n",
       "\n",
       "    .dataframe thead th {\n",
       "        text-align: right;\n",
       "    }\n",
       "</style>\n",
       "<table border=\"1\" class=\"dataframe\">\n",
       "  <thead>\n",
       "    <tr style=\"text-align: right;\">\n",
       "      <th></th>\n",
       "      <th>song_name</th>\n",
       "      <th>label</th>\n",
       "      <th>tempo</th>\n",
       "      <th>total_beats</th>\n",
       "      <th>average_beats</th>\n",
       "      <th>chroma_stft_mean</th>\n",
       "      <th>chroma_stft_std</th>\n",
       "      <th>chroma_stft_var</th>\n",
       "      <th>chroma_cq_mean</th>\n",
       "      <th>chroma_cq_std</th>\n",
       "      <th>...</th>\n",
       "      <th>zcr_var</th>\n",
       "      <th>harm_mean</th>\n",
       "      <th>harm_std</th>\n",
       "      <th>harm_var</th>\n",
       "      <th>perc_mean</th>\n",
       "      <th>perc_std</th>\n",
       "      <th>perc_var</th>\n",
       "      <th>frame_mean</th>\n",
       "      <th>frame_std</th>\n",
       "      <th>frame_var</th>\n",
       "    </tr>\n",
       "  </thead>\n",
       "  <tbody>\n",
       "    <tr>\n",
       "      <th>0</th>\n",
       "      <td>2U.mp3</td>\n",
       "      <td>3</td>\n",
       "      <td>0.571759</td>\n",
       "      <td>0.652573</td>\n",
       "      <td>0.319039</td>\n",
       "      <td>0.274588</td>\n",
       "      <td>0.487642</td>\n",
       "      <td>0.456309</td>\n",
       "      <td>0.248680</td>\n",
       "      <td>0.457973</td>\n",
       "      <td>...</td>\n",
       "      <td>0.325239</td>\n",
       "      <td>0.695645</td>\n",
       "      <td>0.602880</td>\n",
       "      <td>0.374820</td>\n",
       "      <td>0.414739</td>\n",
       "      <td>0.469630</td>\n",
       "      <td>0.247359</td>\n",
       "      <td>0.056487</td>\n",
       "      <td>0.093822</td>\n",
       "      <td>0.024119</td>\n",
       "    </tr>\n",
       "    <tr>\n",
       "      <th>1</th>\n",
       "      <td>Adele - Hello.mp3</td>\n",
       "      <td>3</td>\n",
       "      <td>0.794444</td>\n",
       "      <td>0.769003</td>\n",
       "      <td>1.000000</td>\n",
       "      <td>1.000000</td>\n",
       "      <td>0.000000</td>\n",
       "      <td>0.000000</td>\n",
       "      <td>1.000000</td>\n",
       "      <td>0.000000</td>\n",
       "      <td>...</td>\n",
       "      <td>0.165833</td>\n",
       "      <td>0.662240</td>\n",
       "      <td>0.000000</td>\n",
       "      <td>0.000000</td>\n",
       "      <td>0.337370</td>\n",
       "      <td>0.000000</td>\n",
       "      <td>0.000000</td>\n",
       "      <td>1.000000</td>\n",
       "      <td>1.000000</td>\n",
       "      <td>1.000000</td>\n",
       "    </tr>\n",
       "    <tr>\n",
       "      <th>2</th>\n",
       "      <td>Alan Walker - Darkside (feat. AuRa and Tomine ...</td>\n",
       "      <td>3</td>\n",
       "      <td>0.126389</td>\n",
       "      <td>0.139302</td>\n",
       "      <td>0.306506</td>\n",
       "      <td>0.162971</td>\n",
       "      <td>0.535894</td>\n",
       "      <td>0.504704</td>\n",
       "      <td>0.142575</td>\n",
       "      <td>0.744711</td>\n",
       "      <td>...</td>\n",
       "      <td>0.245454</td>\n",
       "      <td>0.692909</td>\n",
       "      <td>0.533585</td>\n",
       "      <td>0.296517</td>\n",
       "      <td>0.395922</td>\n",
       "      <td>0.384339</td>\n",
       "      <td>0.173183</td>\n",
       "      <td>0.182599</td>\n",
       "      <td>0.313671</td>\n",
       "      <td>0.137172</td>\n",
       "    </tr>\n",
       "    <tr>\n",
       "      <th>3</th>\n",
       "      <td>Alan Walker - Diamond Heart (feat. Sophia Soma...</td>\n",
       "      <td>3</td>\n",
       "      <td>0.149425</td>\n",
       "      <td>0.145005</td>\n",
       "      <td>0.401787</td>\n",
       "      <td>0.120629</td>\n",
       "      <td>0.499835</td>\n",
       "      <td>0.468482</td>\n",
       "      <td>0.159102</td>\n",
       "      <td>0.633984</td>\n",
       "      <td>...</td>\n",
       "      <td>0.130375</td>\n",
       "      <td>0.695268</td>\n",
       "      <td>0.378262</td>\n",
       "      <td>0.154237</td>\n",
       "      <td>0.399305</td>\n",
       "      <td>0.254712</td>\n",
       "      <td>0.085309</td>\n",
       "      <td>0.167765</td>\n",
       "      <td>0.097772</td>\n",
       "      <td>0.025451</td>\n",
       "    </tr>\n",
       "    <tr>\n",
       "      <th>4</th>\n",
       "      <td>Alan Walker - Different World feat. Sofia Cars...</td>\n",
       "      <td>3</td>\n",
       "      <td>0.460417</td>\n",
       "      <td>0.528811</td>\n",
       "      <td>0.308528</td>\n",
       "      <td>0.357317</td>\n",
       "      <td>0.449425</td>\n",
       "      <td>0.418394</td>\n",
       "      <td>0.283933</td>\n",
       "      <td>0.829579</td>\n",
       "      <td>...</td>\n",
       "      <td>0.341475</td>\n",
       "      <td>0.689324</td>\n",
       "      <td>0.563800</td>\n",
       "      <td>0.329535</td>\n",
       "      <td>0.422608</td>\n",
       "      <td>0.586890</td>\n",
       "      <td>0.370533</td>\n",
       "      <td>0.173275</td>\n",
       "      <td>0.286409</td>\n",
       "      <td>0.118849</td>\n",
       "    </tr>\n",
       "  </tbody>\n",
       "</table>\n",
       "<p>5 rows × 56 columns</p>\n",
       "</div>"
      ],
      "text/plain": [
       "                                           song_name  label     tempo  \\\n",
       "0                                             2U.mp3      3  0.571759   \n",
       "1                                  Adele - Hello.mp3      3  0.794444   \n",
       "2  Alan Walker - Darkside (feat. AuRa and Tomine ...      3  0.126389   \n",
       "3  Alan Walker - Diamond Heart (feat. Sophia Soma...      3  0.149425   \n",
       "4  Alan Walker - Different World feat. Sofia Cars...      3  0.460417   \n",
       "\n",
       "   total_beats  average_beats  chroma_stft_mean  chroma_stft_std  \\\n",
       "0     0.652573       0.319039          0.274588         0.487642   \n",
       "1     0.769003       1.000000          1.000000         0.000000   \n",
       "2     0.139302       0.306506          0.162971         0.535894   \n",
       "3     0.145005       0.401787          0.120629         0.499835   \n",
       "4     0.528811       0.308528          0.357317         0.449425   \n",
       "\n",
       "   chroma_stft_var  chroma_cq_mean  chroma_cq_std  ...   zcr_var  harm_mean  \\\n",
       "0         0.456309        0.248680       0.457973  ...  0.325239   0.695645   \n",
       "1         0.000000        1.000000       0.000000  ...  0.165833   0.662240   \n",
       "2         0.504704        0.142575       0.744711  ...  0.245454   0.692909   \n",
       "3         0.468482        0.159102       0.633984  ...  0.130375   0.695268   \n",
       "4         0.418394        0.283933       0.829579  ...  0.341475   0.689324   \n",
       "\n",
       "   harm_std  harm_var  perc_mean  perc_std  perc_var  frame_mean  frame_std  \\\n",
       "0  0.602880  0.374820   0.414739  0.469630  0.247359    0.056487   0.093822   \n",
       "1  0.000000  0.000000   0.337370  0.000000  0.000000    1.000000   1.000000   \n",
       "2  0.533585  0.296517   0.395922  0.384339  0.173183    0.182599   0.313671   \n",
       "3  0.378262  0.154237   0.399305  0.254712  0.085309    0.167765   0.097772   \n",
       "4  0.563800  0.329535   0.422608  0.586890  0.370533    0.173275   0.286409   \n",
       "\n",
       "   frame_var  \n",
       "0   0.024119  \n",
       "1   1.000000  \n",
       "2   0.137172  \n",
       "3   0.025451  \n",
       "4   0.118849  \n",
       "\n",
       "[5 rows x 56 columns]"
      ]
     },
     "execution_count": 33,
     "metadata": {},
     "output_type": "execute_result"
    }
   ],
   "source": [
    "rf_final = pd.concat([df['song_name'],df_predicted,fture],axis=1)\n",
    "rf_final.head()"
   ]
  },
  {
   "cell_type": "code",
   "execution_count": null,
   "metadata": {},
   "outputs": [],
   "source": []
  },
  {
   "cell_type": "markdown",
   "metadata": {},
   "source": [
    "Logistic"
   ]
  },
  {
   "cell_type": "code",
   "execution_count": 20,
   "metadata": {},
   "outputs": [],
   "source": [
    "from sklearn.linear_model import LogisticRegression\n",
    "\n",
    "lr = LogisticRegression(solver='liblinear')\n",
    "\n",
    "lr.fit(X_train,Y_train)\n",
    "\n",
    "Y_pred_lr = lr.predict(X_test)"
   ]
  },
  {
   "cell_type": "code",
   "execution_count": 21,
   "metadata": {},
   "outputs": [
    {
     "data": {
      "text/plain": [
       "(25,)"
      ]
     },
     "execution_count": 21,
     "metadata": {},
     "output_type": "execute_result"
    }
   ],
   "source": [
    "Y_pred_lr.shape"
   ]
  },
  {
   "cell_type": "code",
   "execution_count": 22,
   "metadata": {},
   "outputs": [
    {
     "name": "stdout",
     "output_type": "stream",
     "text": [
      "The accuracy score achieved using Logistic Regression is: 40.0 %\n"
     ]
    }
   ],
   "source": [
    "score_lr = round(accuracy_score(Y_pred_lr,Y_test)*100,2)\n",
    "\n",
    "print(\"The accuracy score achieved using Logistic Regression is: \"+str(score_lr)+\" %\")"
   ]
  },
  {
   "cell_type": "markdown",
   "metadata": {},
   "source": [
    "Naive BAyers"
   ]
  },
  {
   "cell_type": "code",
   "execution_count": 23,
   "metadata": {},
   "outputs": [],
   "source": [
    "from sklearn.naive_bayes import GaussianNB\n",
    "\n",
    "nb = GaussianNB()\n",
    "\n",
    "nb.fit(X_train,Y_train)\n",
    "\n",
    "Y_pred_nb = nb.predict(X_test)"
   ]
  },
  {
   "cell_type": "code",
   "execution_count": 24,
   "metadata": {},
   "outputs": [
    {
     "data": {
      "text/plain": [
       "(25,)"
      ]
     },
     "execution_count": 24,
     "metadata": {},
     "output_type": "execute_result"
    }
   ],
   "source": [
    "Y_pred_nb.shape"
   ]
  },
  {
   "cell_type": "code",
   "execution_count": 25,
   "metadata": {},
   "outputs": [
    {
     "name": "stdout",
     "output_type": "stream",
     "text": [
      "The accuracy score achieved using Naive Bayes is: 64.0 %\n"
     ]
    }
   ],
   "source": [
    "score_nb = round(accuracy_score(Y_pred_nb,Y_test)*100,2)\n",
    "\n",
    "print(\"The accuracy score achieved using Naive Bayes is: \"+str(score_nb)+\" %\")"
   ]
  },
  {
   "cell_type": "markdown",
   "metadata": {},
   "source": [
    "SVM"
   ]
  },
  {
   "cell_type": "code",
   "execution_count": 26,
   "metadata": {},
   "outputs": [],
   "source": [
    "from sklearn import svm\n",
    "\n",
    "sv = svm.SVC(kernel='linear')\n",
    "\n",
    "sv.fit(X_train, Y_train)\n",
    "\n",
    "Y_pred_svm = sv.predict(X_test)"
   ]
  },
  {
   "cell_type": "code",
   "execution_count": 27,
   "metadata": {},
   "outputs": [
    {
     "data": {
      "text/plain": [
       "(25,)"
      ]
     },
     "execution_count": 27,
     "metadata": {},
     "output_type": "execute_result"
    }
   ],
   "source": [
    "Y_pred_svm.shape"
   ]
  },
  {
   "cell_type": "code",
   "execution_count": 28,
   "metadata": {},
   "outputs": [
    {
     "name": "stdout",
     "output_type": "stream",
     "text": [
      "The accuracy score achieved using Linear SVM is: 32.0 %\n"
     ]
    }
   ],
   "source": [
    "score_svm = round(accuracy_score(Y_pred_svm,Y_test)*100,2)\n",
    "\n",
    "print(\"The accuracy score achieved using Linear SVM is: \"+str(score_svm)+\" %\")"
   ]
  },
  {
   "cell_type": "markdown",
   "metadata": {},
   "source": [
    "KNN\n"
   ]
  },
  {
   "cell_type": "code",
   "execution_count": 29,
   "metadata": {},
   "outputs": [],
   "source": [
    "from sklearn.neighbors import KNeighborsClassifier\n",
    "\n",
    "knn = KNeighborsClassifier(n_neighbors=7)\n",
    "knn.fit(X_train,Y_train)\n",
    "Y_pred_knn=knn.predict(X_test)"
   ]
  },
  {
   "cell_type": "code",
   "execution_count": 30,
   "metadata": {},
   "outputs": [
    {
     "data": {
      "text/plain": [
       "(25,)"
      ]
     },
     "execution_count": 30,
     "metadata": {},
     "output_type": "execute_result"
    }
   ],
   "source": [
    "Y_pred_knn.shape"
   ]
  },
  {
   "cell_type": "code",
   "execution_count": 31,
   "metadata": {},
   "outputs": [
    {
     "name": "stdout",
     "output_type": "stream",
     "text": [
      "The accuracy score achieved using KNN is: 56.0 %\n"
     ]
    }
   ],
   "source": [
    "score_knn = round(accuracy_score(Y_pred_knn,Y_test)*100,2)\n",
    "\n",
    "print(\"The accuracy score achieved using KNN is: \"+str(score_knn)+\" %\")"
   ]
  },
  {
   "cell_type": "markdown",
   "metadata": {},
   "source": [
    "Decision Tree"
   ]
  },
  {
   "cell_type": "code",
   "execution_count": 32,
   "metadata": {},
   "outputs": [
    {
     "name": "stdout",
     "output_type": "stream",
     "text": [
      "(25,)\n"
     ]
    }
   ],
   "source": [
    "from sklearn.tree import DecisionTreeClassifier\n",
    "\n",
    "max_accuracy = 0\n",
    "\n",
    "\n",
    "for x in range(200):\n",
    "    dt = DecisionTreeClassifier(random_state=x)\n",
    "    dt.fit(X_train,Y_train)\n",
    "    Y_pred_dt = dt.predict(X_test)\n",
    "    current_accuracy = round(accuracy_score(Y_pred_dt,Y_test)*100,2)\n",
    "    if(current_accuracy>max_accuracy):\n",
    "        max_accuracy = current_accuracy\n",
    "        best_x = x\n",
    "        \n",
    "#print(max_accuracy)\n",
    "#print(best_x)\n",
    "\n",
    "\n",
    "dt = DecisionTreeClassifier(random_state=best_x)\n",
    "dt.fit(X_train,Y_train)\n",
    "Y_pred_dt = dt.predict(X_test)\n",
    "print(Y_pred_dt.shape)\n"
   ]
  },
  {
   "cell_type": "code",
   "execution_count": 33,
   "metadata": {},
   "outputs": [
    {
     "name": "stdout",
     "output_type": "stream",
     "text": [
      "The accuracy score achieved using Decision Tree is: 48.0 %\n"
     ]
    }
   ],
   "source": [
    "score_dt = round(accuracy_score(Y_pred_dt,Y_test)*100,2)\n",
    "\n",
    "print(\"The accuracy score achieved using Decision Tree is: \"+str(score_dt)+\" %\")"
   ]
  },
  {
   "cell_type": "markdown",
   "metadata": {},
   "source": [
    "XGBoost"
   ]
  },
  {
   "cell_type": "code",
   "execution_count": 37,
   "metadata": {},
   "outputs": [
    {
     "name": "stdout",
     "output_type": "stream",
     "text": [
      "[17:47:04] WARNING: C:/Users/Administrator/workspace/xgboost-win64_release_1.4.0/src/learner.cc:1095: Starting in XGBoost 1.3.0, the default evaluation metric used with the objective 'multi:softprob' was changed from 'merror' to 'mlogloss'. Explicitly set eval_metric if you'd like to restore the old behavior.\n"
     ]
    }
   ],
   "source": [
    "import xgboost as xgb\n",
    "\n",
    "xgb_model = xgb.XGBClassifier(objective=\"binary:logistic\", random_state=42)\n",
    "xgb_model.fit(X_train, Y_train)\n",
    "\n",
    "Y_pred_xgb = xgb_model.predict(X_test)"
   ]
  },
  {
   "cell_type": "code",
   "execution_count": 38,
   "metadata": {},
   "outputs": [
    {
     "data": {
      "text/plain": [
       "(25,)"
      ]
     },
     "execution_count": 38,
     "metadata": {},
     "output_type": "execute_result"
    }
   ],
   "source": [
    "Y_pred_xgb.shape\n"
   ]
  },
  {
   "cell_type": "code",
   "execution_count": 39,
   "metadata": {},
   "outputs": [
    {
     "name": "stdout",
     "output_type": "stream",
     "text": [
      "The accuracy score achieved using XGBoost is: 64.0 %\n"
     ]
    }
   ],
   "source": [
    "score_xgb = round(accuracy_score(Y_pred_xgb,Y_test)*100,2)\n",
    "\n",
    "print(\"The accuracy score achieved using XGBoost is: \"+str(score_xgb)+\" %\")"
   ]
  },
  {
   "cell_type": "code",
   "execution_count": 40,
   "metadata": {},
   "outputs": [
    {
     "name": "stdout",
     "output_type": "stream",
     "text": [
      "The accuracy score achieved using Logistic Regression is: 40.0 %\n",
      "The accuracy score achieved using Naive Bayes is: 64.0 %\n",
      "The accuracy score achieved using Support Vector Machine is: 32.0 %\n",
      "The accuracy score achieved using K-Nearest Neighbors is: 56.0 %\n",
      "The accuracy score achieved using Decision Tree is: 48.0 %\n",
      "The accuracy score achieved using Random Forest is: 80.0 %\n",
      "The accuracy score achieved using XGBoost is: 64.0 %\n"
     ]
    }
   ],
   "source": [
    "scores = [score_lr,score_nb,score_svm,score_knn,score_dt,score_rf,score_xgb]\n",
    "algorithms = [\"Logistic Regression\",\"Naive Bayes\",\"Support Vector Machine\",\"K-Nearest Neighbors\",\"Decision Tree\",\"Random Forest\",\"XGBoost\"]    \n",
    "\n",
    "for i in range(len(algorithms)):\n",
    "    print(\"The accuracy score achieved using \"+algorithms[i]+\" is: \"+str(scores[i])+\" %\")"
   ]
  },
  {
   "cell_type": "code",
   "execution_count": 41,
   "metadata": {},
   "outputs": [
    {
     "data": {
      "text/plain": [
       "<AxesSubplot:xlabel='Algorithms', ylabel='Accuracy score'>"
      ]
     },
     "execution_count": 41,
     "metadata": {},
     "output_type": "execute_result"
    },
    {
     "data": {
      "image/png": "[encoded data removed]",
      "text/plain": [
       "<Figure size 1080x576 with 1 Axes>"
      ]
     },
     "metadata": {},
     "output_type": "display_data"
    }
   ],
   "source": [
    "sns.set(rc={'figure.figsize':(15,8)})\n",
    "plt.xlabel(\"Algorithms\")\n",
    "plt.ylabel(\"Accuracy score\")\n",
    "\n",
    "sns.barplot(algorithms,scores)"
   ]
  },
  {
   "cell_type": "code",
   "execution_count": null,
   "metadata": {},
   "outputs": [],
   "source": []
  }
 ],
 "metadata": {
  "kernelspec": {
   "display_name": "Python 3",
   "language": "python",
   "name": "python3"
  },
  "language_info": {
   "codemirror_mode": {
    "name": "ipython",
    "version": 3
   },
   "file_extension": ".py",
   "mimetype": "text/x-python",
   "name": "python",
   "nbconvert_exporter": "python",
   "pygments_lexer": "ipython3",
   "version": "3.8.5"
  }
 },
 "nbformat": 4,
 "nbformat_minor": 4
}
