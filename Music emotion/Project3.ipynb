{
 "cells": [
  {
   "cell_type": "code",
   "execution_count": 1,
   "metadata": {},
   "outputs": [],
   "source": [
    "import numpy as np\n",
    "import pandas as pd\n",
    "import matplotlib.pyplot as plt\n",
    "import seaborn as sns\n",
    "\n",
    "%matplotlib inline\n",
    "\n",
    "import os\n",
    "import warnings\n",
    "warnings.filterwarnings('ignore')"
   ]
  },
  {
   "cell_type": "code",
   "execution_count": 2,
   "metadata": {},
   "outputs": [],
   "source": [
    "dataset = pd.read_csv('D:\\Semester\\SEM 4\\Emotion_features.csv')"
   ]
  },
  {
   "cell_type": "code",
   "execution_count": 3,
   "metadata": {},
   "outputs": [
    {
     "data": {
      "text/html": [
       "<div>\n",
       "<style scoped>\n",
       "    .dataframe tbody tr th:only-of-type {\n",
       "        vertical-align: middle;\n",
       "    }\n",
       "\n",
       "    .dataframe tbody tr th {\n",
       "        vertical-align: top;\n",
       "    }\n",
       "\n",
       "    .dataframe thead th {\n",
       "        text-align: right;\n",
       "    }\n",
       "</style>\n",
       "<table border=\"1\" class=\"dataframe\">\n",
       "  <thead>\n",
       "    <tr style=\"text-align: right;\">\n",
       "      <th></th>\n",
       "      <th>id</th>\n",
       "      <th>song_name</th>\n",
       "      <th>class</th>\n",
       "      <th>label</th>\n",
       "      <th>tempo</th>\n",
       "      <th>total_beats</th>\n",
       "      <th>average_beats</th>\n",
       "      <th>chroma_stft_mean</th>\n",
       "      <th>chroma_stft_std</th>\n",
       "      <th>chroma_stft_var</th>\n",
       "      <th>...</th>\n",
       "      <th>zcr_var</th>\n",
       "      <th>harm_mean</th>\n",
       "      <th>harm_std</th>\n",
       "      <th>harm_var</th>\n",
       "      <th>perc_mean</th>\n",
       "      <th>perc_std</th>\n",
       "      <th>perc_var</th>\n",
       "      <th>frame_mean</th>\n",
       "      <th>frame_std</th>\n",
       "      <th>frame_var</th>\n",
       "    </tr>\n",
       "  </thead>\n",
       "  <tbody>\n",
       "    <tr>\n",
       "      <th>0</th>\n",
       "      <td>1</td>\n",
       "      <td>30 seconds to Mars - Night of the Hunter.mp3</td>\n",
       "      <td>relax</td>\n",
       "      <td>3</td>\n",
       "      <td>117.453835</td>\n",
       "      <td>139925</td>\n",
       "      <td>1283.715596</td>\n",
       "      <td>0.422269</td>\n",
       "      <td>0.293326</td>\n",
       "      <td>0.086040</td>\n",
       "      <td>...</td>\n",
       "      <td>0.007792</td>\n",
       "      <td>0.000001</td>\n",
       "      <td>0.131658</td>\n",
       "      <td>0.017334</td>\n",
       "      <td>0.000142</td>\n",
       "      <td>0.095362</td>\n",
       "      <td>0.009094</td>\n",
       "      <td>4.221388</td>\n",
       "      <td>1.601396</td>\n",
       "      <td>2.564469</td>\n",
       "    </tr>\n",
       "    <tr>\n",
       "      <th>1</th>\n",
       "      <td>2</td>\n",
       "      <td>Absolutely - Story of A Girl.mp3</td>\n",
       "      <td>sad</td>\n",
       "      <td>1</td>\n",
       "      <td>129.199219</td>\n",
       "      <td>159877</td>\n",
       "      <td>1268.865079</td>\n",
       "      <td>0.425321</td>\n",
       "      <td>0.289704</td>\n",
       "      <td>0.083929</td>\n",
       "      <td>...</td>\n",
       "      <td>0.008534</td>\n",
       "      <td>-0.000003</td>\n",
       "      <td>0.169204</td>\n",
       "      <td>0.028630</td>\n",
       "      <td>0.000006</td>\n",
       "      <td>0.099145</td>\n",
       "      <td>0.009830</td>\n",
       "      <td>3.246150</td>\n",
       "      <td>1.885735</td>\n",
       "      <td>3.555996</td>\n",
       "    </tr>\n",
       "    <tr>\n",
       "      <th>2</th>\n",
       "      <td>3</td>\n",
       "      <td>Ace - Futureland.mp3</td>\n",
       "      <td>happy</td>\n",
       "      <td>2</td>\n",
       "      <td>99.384014</td>\n",
       "      <td>121594</td>\n",
       "      <td>1253.546392</td>\n",
       "      <td>0.487377</td>\n",
       "      <td>0.268670</td>\n",
       "      <td>0.072184</td>\n",
       "      <td>...</td>\n",
       "      <td>0.006199</td>\n",
       "      <td>0.000019</td>\n",
       "      <td>0.206916</td>\n",
       "      <td>0.042814</td>\n",
       "      <td>-0.000077</td>\n",
       "      <td>0.115425</td>\n",
       "      <td>0.013323</td>\n",
       "      <td>3.989188</td>\n",
       "      <td>1.766115</td>\n",
       "      <td>3.119163</td>\n",
       "    </tr>\n",
       "    <tr>\n",
       "      <th>3</th>\n",
       "      <td>4</td>\n",
       "      <td>Alan Walker - Faded.mp3</td>\n",
       "      <td>sad</td>\n",
       "      <td>1</td>\n",
       "      <td>89.102909</td>\n",
       "      <td>113611</td>\n",
       "      <td>1291.034091</td>\n",
       "      <td>0.292934</td>\n",
       "      <td>0.295695</td>\n",
       "      <td>0.087435</td>\n",
       "      <td>...</td>\n",
       "      <td>0.002483</td>\n",
       "      <td>-0.000020</td>\n",
       "      <td>0.184177</td>\n",
       "      <td>0.033921</td>\n",
       "      <td>-0.000003</td>\n",
       "      <td>0.055471</td>\n",
       "      <td>0.003077</td>\n",
       "      <td>3.423782</td>\n",
       "      <td>1.922333</td>\n",
       "      <td>3.695364</td>\n",
       "    </tr>\n",
       "    <tr>\n",
       "      <th>4</th>\n",
       "      <td>5</td>\n",
       "      <td>Alan Walker - Force [Instrumental].mp3</td>\n",
       "      <td>relax</td>\n",
       "      <td>3</td>\n",
       "      <td>198.768029</td>\n",
       "      <td>252770</td>\n",
       "      <td>1404.277778</td>\n",
       "      <td>0.286669</td>\n",
       "      <td>0.300049</td>\n",
       "      <td>0.090029</td>\n",
       "      <td>...</td>\n",
       "      <td>0.002977</td>\n",
       "      <td>0.000014</td>\n",
       "      <td>0.147811</td>\n",
       "      <td>0.021848</td>\n",
       "      <td>0.000307</td>\n",
       "      <td>0.048204</td>\n",
       "      <td>0.002324</td>\n",
       "      <td>9.637442</td>\n",
       "      <td>7.344525</td>\n",
       "      <td>53.942050</td>\n",
       "    </tr>\n",
       "  </tbody>\n",
       "</table>\n",
       "<p>5 rows × 58 columns</p>\n",
       "</div>"
      ],
      "text/plain": [
       "   id                                     song_name  class  label       tempo  \\\n",
       "0   1  30 seconds to Mars - Night of the Hunter.mp3  relax      3  117.453835   \n",
       "1   2              Absolutely - Story of A Girl.mp3    sad      1  129.199219   \n",
       "2   3                          Ace - Futureland.mp3  happy      2   99.384014   \n",
       "3   4                       Alan Walker - Faded.mp3    sad      1   89.102909   \n",
       "4   5        Alan Walker - Force [Instrumental].mp3  relax      3  198.768029   \n",
       "\n",
       "   total_beats  average_beats  chroma_stft_mean  chroma_stft_std  \\\n",
       "0       139925    1283.715596          0.422269         0.293326   \n",
       "1       159877    1268.865079          0.425321         0.289704   \n",
       "2       121594    1253.546392          0.487377         0.268670   \n",
       "3       113611    1291.034091          0.292934         0.295695   \n",
       "4       252770    1404.277778          0.286669         0.300049   \n",
       "\n",
       "   chroma_stft_var  ...   zcr_var  harm_mean  harm_std  harm_var  perc_mean  \\\n",
       "0         0.086040  ...  0.007792   0.000001  0.131658  0.017334   0.000142   \n",
       "1         0.083929  ...  0.008534  -0.000003  0.169204  0.028630   0.000006   \n",
       "2         0.072184  ...  0.006199   0.000019  0.206916  0.042814  -0.000077   \n",
       "3         0.087435  ...  0.002483  -0.000020  0.184177  0.033921  -0.000003   \n",
       "4         0.090029  ...  0.002977   0.000014  0.147811  0.021848   0.000307   \n",
       "\n",
       "   perc_std  perc_var  frame_mean  frame_std  frame_var  \n",
       "0  0.095362  0.009094    4.221388   1.601396   2.564469  \n",
       "1  0.099145  0.009830    3.246150   1.885735   3.555996  \n",
       "2  0.115425  0.013323    3.989188   1.766115   3.119163  \n",
       "3  0.055471  0.003077    3.423782   1.922333   3.695364  \n",
       "4  0.048204  0.002324    9.637442   7.344525  53.942050  \n",
       "\n",
       "[5 rows x 58 columns]"
      ]
     },
     "execution_count": 3,
     "metadata": {},
     "output_type": "execute_result"
    }
   ],
   "source": [
    "dataset.head()"
   ]
  },
  {
   "cell_type": "markdown",
   "metadata": {},
   "source": [
    "1 - Sad       \n",
    "2 - Happy      \n",
    "3 - Relax     \n",
    "        4 - Angry "
   ]
  },
  {
   "cell_type": "code",
   "execution_count": 4,
   "metadata": {},
   "outputs": [
    {
     "name": "stdout",
     "output_type": "stream",
     "text": [
      "<class 'pandas.core.frame.DataFrame'>\n",
      "RangeIndex: 75 entries, 0 to 74\n",
      "Data columns (total 58 columns):\n",
      " #   Column               Non-Null Count  Dtype  \n",
      "---  ------               --------------  -----  \n",
      " 0   id                   75 non-null     int64  \n",
      " 1   song_name            75 non-null     object \n",
      " 2   class                75 non-null     object \n",
      " 3   label                75 non-null     int64  \n",
      " 4   tempo                75 non-null     float64\n",
      " 5   total_beats          75 non-null     int64  \n",
      " 6   average_beats        75 non-null     float64\n",
      " 7   chroma_stft_mean     75 non-null     float64\n",
      " 8   chroma_stft_std      75 non-null     float64\n",
      " 9   chroma_stft_var      75 non-null     float64\n",
      " 10  chroma_cq_mean       75 non-null     float64\n",
      " 11  chroma_cq_std        75 non-null     float64\n",
      " 12  chroma_cq_var        75 non-null     float64\n",
      " 13  chroma_cens_mean     75 non-null     float64\n",
      " 14  chroma_cens_std      75 non-null     float64\n",
      " 15  chroma_cens_var      75 non-null     float64\n",
      " 16  melspectrogram_mean  75 non-null     float64\n",
      " 17  melspectrogram_std   75 non-null     float64\n",
      " 18  melspectrogram_var   75 non-null     float64\n",
      " 19  mfcc_mean            75 non-null     float64\n",
      " 20  mfcc_std             75 non-null     float64\n",
      " 21  mfcc_var             75 non-null     float64\n",
      " 22  mfcc_delta_mean      75 non-null     float64\n",
      " 23  mfcc_delta_std       75 non-null     float64\n",
      " 24  mfcc_delta_var       75 non-null     float64\n",
      " 25  rmse_mean            75 non-null     float64\n",
      " 26  rmse_std             75 non-null     float64\n",
      " 27  rmse_var             75 non-null     float64\n",
      " 28  cent_mean            75 non-null     float64\n",
      " 29  cent_std             75 non-null     float64\n",
      " 30  cent_var             75 non-null     float64\n",
      " 31  spec_bw_mean         75 non-null     float64\n",
      " 32  spec_bw_std          75 non-null     float64\n",
      " 33  spec_bw_var          75 non-null     float64\n",
      " 34  contrast_mean        75 non-null     float64\n",
      " 35  contrast_std         75 non-null     float64\n",
      " 36  contrast_var         75 non-null     float64\n",
      " 37  rolloff_mean         75 non-null     float64\n",
      " 38  rolloff_std          75 non-null     float64\n",
      " 39  rolloff_var          75 non-null     float64\n",
      " 40  poly_mean            75 non-null     float64\n",
      " 41  poly_std             75 non-null     float64\n",
      " 42  poly_var             75 non-null     float64\n",
      " 43  tonnetz_mean         75 non-null     float64\n",
      " 44  tonnetz_std          75 non-null     float64\n",
      " 45  tonnetz_var          75 non-null     float64\n",
      " 46  zcr_mean             75 non-null     float64\n",
      " 47  zcr_std              75 non-null     float64\n",
      " 48  zcr_var              75 non-null     float64\n",
      " 49  harm_mean            75 non-null     float64\n",
      " 50  harm_std             75 non-null     float64\n",
      " 51  harm_var             75 non-null     float64\n",
      " 52  perc_mean            75 non-null     float64\n",
      " 53  perc_std             75 non-null     float64\n",
      " 54  perc_var             75 non-null     float64\n",
      " 55  frame_mean           75 non-null     float64\n",
      " 56  frame_std            75 non-null     float64\n",
      " 57  frame_var            75 non-null     float64\n",
      "dtypes: float64(53), int64(3), object(2)\n",
      "memory usage: 34.1+ KB\n"
     ]
    }
   ],
   "source": [
    "dataset.info()"
   ]
  },
  {
   "cell_type": "code",
   "execution_count": 5,
   "metadata": {},
   "outputs": [
    {
     "data": {
      "text/plain": [
       "(75, 58)"
      ]
     },
     "execution_count": 5,
     "metadata": {},
     "output_type": "execute_result"
    }
   ],
   "source": [
    "dataset.shape"
   ]
  },
  {
   "cell_type": "code",
   "execution_count": 6,
   "metadata": {},
   "outputs": [
    {
     "data": {
      "text/plain": [
       "count    75.000000\n",
       "mean      2.266667\n",
       "std       1.119041\n",
       "min       1.000000\n",
       "25%       1.000000\n",
       "50%       2.000000\n",
       "75%       3.000000\n",
       "max       4.000000\n",
       "Name: label, dtype: float64"
      ]
     },
     "execution_count": 6,
     "metadata": {},
     "output_type": "execute_result"
    }
   ],
   "source": [
    "dataset['label'].describe()"
   ]
  },
  {
   "cell_type": "code",
   "execution_count": 7,
   "metadata": {},
   "outputs": [
    {
     "data": {
      "text/plain": [
       "array([3, 1, 2, 4], dtype=int64)"
      ]
     },
     "execution_count": 7,
     "metadata": {},
     "output_type": "execute_result"
    }
   ],
   "source": [
    "dataset[\"label\"].unique()"
   ]
  },
  {
   "cell_type": "markdown",
   "metadata": {},
   "source": [
    "Correlation"
   ]
  },
  {
   "cell_type": "code",
   "execution_count": 8,
   "metadata": {},
   "outputs": [
    {
     "name": "stdout",
     "output_type": "stream",
     "text": [
      "label                  1.000000\n",
      "chroma_stft_mean       0.398708\n",
      "contrast_mean          0.396730\n",
      "tonnetz_std            0.391225\n",
      "tonnetz_var            0.377318\n",
      "chroma_cens_std        0.372121\n",
      "chroma_cens_var        0.369683\n",
      "chroma_cq_mean         0.368606\n",
      "chroma_cens_mean       0.363385\n",
      "melspectrogram_mean    0.340947\n",
      "poly_std               0.332819\n",
      "poly_mean              0.328712\n",
      "harm_var               0.327513\n",
      "chroma_cq_std          0.325405\n",
      "poly_var               0.324941\n",
      "chroma_cq_var          0.321206\n",
      "rmse_mean              0.319575\n",
      "melspectrogram_std     0.314458\n",
      "perc_std               0.304244\n",
      "mfcc_mean              0.297226\n",
      "harm_std               0.297069\n",
      "melspectrogram_var     0.266327\n",
      "perc_var               0.265060\n",
      "mfcc_std               0.258430\n",
      "rmse_std               0.257853\n",
      "mfcc_var               0.248526\n",
      "rmse_var               0.247372\n",
      "frame_mean             0.202871\n",
      "mfcc_delta_mean        0.170210\n",
      "frame_std              0.169977\n",
      "chroma_stft_var        0.163213\n",
      "chroma_stft_std        0.163186\n",
      "cent_var               0.159898\n",
      "cent_std               0.143837\n",
      "rolloff_var            0.136949\n",
      "contrast_std           0.134672\n",
      "rolloff_mean           0.133298\n",
      "frame_var              0.133021\n",
      "rolloff_std            0.131146\n",
      "cent_mean              0.115597\n",
      "spec_bw_mean           0.113540\n",
      "spec_bw_std            0.112551\n",
      "contrast_var           0.105112\n",
      "zcr_var                0.103805\n",
      "spec_bw_var            0.098768\n",
      "tonnetz_mean           0.093699\n",
      "zcr_std                0.078459\n",
      "id                     0.052084\n",
      "harm_mean              0.025113\n",
      "total_beats            0.020816\n",
      "perc_mean              0.020045\n",
      "mfcc_delta_var         0.018023\n",
      "tempo                  0.014307\n",
      "zcr_mean               0.012163\n",
      "mfcc_delta_std         0.006541\n",
      "average_beats          0.005543\n",
      "Name: label, dtype: float64\n"
     ]
    }
   ],
   "source": [
    "print(dataset.corr()[\"label\"].abs().sort_values(ascending=False))"
   ]
  },
  {
   "cell_type": "code",
   "execution_count": 9,
   "metadata": {},
   "outputs": [
    {
     "name": "stdout",
     "output_type": "stream",
     "text": [
      "2    25\n",
      "1    23\n",
      "4    16\n",
      "3    11\n",
      "Name: label, dtype: int64\n"
     ]
    },
    {
     "data": {
      "image/png": "[encoded data removed]",
      "text/plain": [
       "<Figure size 432x288 with 1 Axes>"
      ]
     },
     "metadata": {
      "needs_background": "light"
     },
     "output_type": "display_data"
    }
   ],
   "source": [
    "y = dataset[\"label\"]\n",
    "\n",
    "sns.countplot(y)\n",
    "\n",
    "\n",
    "target_temp = dataset.label.value_counts()\n",
    "\n",
    "print(target_temp)"
   ]
  },
  {
   "cell_type": "code",
   "execution_count": 10,
   "metadata": {},
   "outputs": [
    {
     "data": {
      "text/plain": [
       "2    25\n",
       "1    23\n",
       "4    16\n",
       "3    11\n",
       "Name: label, dtype: int64"
      ]
     },
     "execution_count": 10,
     "metadata": {},
     "output_type": "execute_result"
    }
   ],
   "source": [
    "target_temp"
   ]
  },
  {
   "cell_type": "code",
   "execution_count": 11,
   "metadata": {},
   "outputs": [
    {
     "name": "stdout",
     "output_type": "stream",
     "text": [
      "Percentage of Sad songs  : 30.67\n",
      "Percentage of happy songs : 33.33\n",
      "Percentage of Relax songs : 14.67\n",
      "Percentage of Angry songs : 21.33\n"
     ]
    }
   ],
   "source": [
    "print(\"Percentage of Sad songs  : \" +str(round(target_temp[1]*100/75,2)))\n",
    "print(\"Percentage of happy songs : \" +str(round(target_temp[2]*100/75,2)))\n",
    "print(\"Percentage of Relax songs : \" +str(round(target_temp[3]*100/75,2)))\n",
    "print(\"Percentage of Angry songs : \" +str(round(target_temp[4]*100/75,2)))"
   ]
  },
  {
   "cell_type": "markdown",
   "metadata": {},
   "source": [
    "Train "
   ]
  },
  {
   "cell_type": "code",
   "execution_count": 12,
   "metadata": {},
   "outputs": [],
   "source": [
    "feature = dataset.loc[:, 'tempo':]\n",
    "featureName = list(feature)"
   ]
  },
  {
   "cell_type": "code",
   "execution_count": 13,
   "metadata": {},
   "outputs": [],
   "source": [
    "for name in featureName:\n",
    "    feature[name] = (feature[name] - feature[name].min()) / (feature[name].max() - feature[name].min())"
   ]
  },
  {
   "cell_type": "code",
   "execution_count": 14,
   "metadata": {},
   "outputs": [],
   "source": [
    "from sklearn.model_selection import train_test_split\n",
    "target = dataset.loc[:, 'class'].dropna()\n",
    "X_train,X_test,Y_train,Y_test = train_test_split(feature,target,test_size=0.20,random_state=0)"
   ]
  },
  {
   "cell_type": "code",
   "execution_count": 15,
   "metadata": {},
   "outputs": [
    {
     "data": {
      "text/plain": [
       "(60, 54)"
      ]
     },
     "execution_count": 15,
     "metadata": {},
     "output_type": "execute_result"
    }
   ],
   "source": [
    "X_train.shape"
   ]
  },
  {
   "cell_type": "code",
   "execution_count": 16,
   "metadata": {},
   "outputs": [
    {
     "data": {
      "text/plain": [
       "(15, 54)"
      ]
     },
     "execution_count": 16,
     "metadata": {},
     "output_type": "execute_result"
    }
   ],
   "source": [
    "X_test.shape"
   ]
  },
  {
   "cell_type": "code",
   "execution_count": 17,
   "metadata": {},
   "outputs": [
    {
     "data": {
      "text/plain": [
       "(60,)"
      ]
     },
     "execution_count": 17,
     "metadata": {},
     "output_type": "execute_result"
    }
   ],
   "source": [
    "Y_train.shape"
   ]
  },
  {
   "cell_type": "code",
   "execution_count": 18,
   "metadata": {},
   "outputs": [
    {
     "data": {
      "text/plain": [
       "(15,)"
      ]
     },
     "execution_count": 18,
     "metadata": {},
     "output_type": "execute_result"
    }
   ],
   "source": [
    "Y_test.shape"
   ]
  },
  {
   "cell_type": "markdown",
   "metadata": {},
   "source": [
    "Model Fitting"
   ]
  },
  {
   "cell_type": "code",
   "execution_count": 19,
   "metadata": {},
   "outputs": [],
   "source": [
    "from sklearn.metrics import accuracy_score"
   ]
  },
  {
   "cell_type": "markdown",
   "metadata": {},
   "source": [
    "Logistic"
   ]
  },
  {
   "cell_type": "code",
   "execution_count": 20,
   "metadata": {},
   "outputs": [],
   "source": [
    "from sklearn.linear_model import LogisticRegression\n",
    "\n",
    "lr = LogisticRegression()\n",
    "\n",
    "lr.fit(X_train,Y_train)\n",
    "\n",
    "Y_pred_lr = lr.predict(X_test)"
   ]
  },
  {
   "cell_type": "code",
   "execution_count": 21,
   "metadata": {},
   "outputs": [
    {
     "data": {
      "text/plain": [
       "(15,)"
      ]
     },
     "execution_count": 21,
     "metadata": {},
     "output_type": "execute_result"
    }
   ],
   "source": [
    "Y_pred_lr.shape"
   ]
  },
  {
   "cell_type": "code",
   "execution_count": 22,
   "metadata": {},
   "outputs": [
    {
     "name": "stdout",
     "output_type": "stream",
     "text": [
      "The accuracy score achieved using Logistic Regression is: 60.0 %\n"
     ]
    }
   ],
   "source": [
    "score_lr = round(accuracy_score(Y_pred_lr,Y_test)*100,2)\n",
    "\n",
    "print(\"The accuracy score achieved using Logistic Regression is: \"+str(score_lr)+\" %\")"
   ]
  },
  {
   "cell_type": "markdown",
   "metadata": {},
   "source": [
    "Naive BAyers"
   ]
  },
  {
   "cell_type": "code",
   "execution_count": 23,
   "metadata": {},
   "outputs": [],
   "source": [
    "from sklearn.naive_bayes import GaussianNB\n",
    "\n",
    "nb = GaussianNB()\n",
    "\n",
    "nb.fit(X_train,Y_train)\n",
    "\n",
    "Y_pred_nb = nb.predict(X_test)"
   ]
  },
  {
   "cell_type": "code",
   "execution_count": 24,
   "metadata": {},
   "outputs": [
    {
     "data": {
      "text/plain": [
       "(15,)"
      ]
     },
     "execution_count": 24,
     "metadata": {},
     "output_type": "execute_result"
    }
   ],
   "source": [
    "Y_pred_nb.shape"
   ]
  },
  {
   "cell_type": "code",
   "execution_count": 25,
   "metadata": {},
   "outputs": [
    {
     "name": "stdout",
     "output_type": "stream",
     "text": [
      "The accuracy score achieved using Naive Bayes is: 40.0 %\n"
     ]
    }
   ],
   "source": [
    "score_nb = round(accuracy_score(Y_pred_nb,Y_test)*100,2)\n",
    "\n",
    "print(\"The accuracy score achieved using Naive Bayes is: \"+str(score_nb)+\" %\")"
   ]
  },
  {
   "cell_type": "markdown",
   "metadata": {},
   "source": [
    "SVM"
   ]
  },
  {
   "cell_type": "code",
   "execution_count": 26,
   "metadata": {},
   "outputs": [],
   "source": [
    "from sklearn import svm\n",
    "\n",
    "sv = svm.SVC(kernel='linear')\n",
    "\n",
    "sv.fit(X_train, Y_train)\n",
    "\n",
    "Y_pred_svm = sv.predict(X_test)"
   ]
  },
  {
   "cell_type": "code",
   "execution_count": 27,
   "metadata": {},
   "outputs": [
    {
     "data": {
      "text/plain": [
       "(15,)"
      ]
     },
     "execution_count": 27,
     "metadata": {},
     "output_type": "execute_result"
    }
   ],
   "source": [
    "Y_pred_svm.shape"
   ]
  },
  {
   "cell_type": "code",
   "execution_count": 28,
   "metadata": {},
   "outputs": [
    {
     "name": "stdout",
     "output_type": "stream",
     "text": [
      "The accuracy score achieved using Linear SVM is: 60.0 %\n"
     ]
    }
   ],
   "source": [
    "score_svm = round(accuracy_score(Y_pred_svm,Y_test)*100,2)\n",
    "\n",
    "print(\"The accuracy score achieved using Linear SVM is: \"+str(score_svm)+\" %\")"
   ]
  },
  {
   "cell_type": "markdown",
   "metadata": {},
   "source": [
    "KNN\n"
   ]
  },
  {
   "cell_type": "code",
   "execution_count": 29,
   "metadata": {},
   "outputs": [],
   "source": [
    "from sklearn.neighbors import KNeighborsClassifier\n",
    "\n",
    "knn = KNeighborsClassifier(n_neighbors=7)\n",
    "knn.fit(X_train,Y_train)\n",
    "Y_pred_knn=knn.predict(X_test)"
   ]
  },
  {
   "cell_type": "code",
   "execution_count": 30,
   "metadata": {},
   "outputs": [
    {
     "data": {
      "text/plain": [
       "(15,)"
      ]
     },
     "execution_count": 30,
     "metadata": {},
     "output_type": "execute_result"
    }
   ],
   "source": [
    "Y_pred_knn.shape"
   ]
  },
  {
   "cell_type": "code",
   "execution_count": 31,
   "metadata": {},
   "outputs": [
    {
     "name": "stdout",
     "output_type": "stream",
     "text": [
      "The accuracy score achieved using KNN is: 66.67 %\n"
     ]
    }
   ],
   "source": [
    "score_knn = round(accuracy_score(Y_pred_knn,Y_test)*100,2)\n",
    "\n",
    "print(\"The accuracy score achieved using KNN is: \"+str(score_knn)+\" %\")"
   ]
  },
  {
   "cell_type": "markdown",
   "metadata": {},
   "source": [
    "Decision Tree"
   ]
  },
  {
   "cell_type": "code",
   "execution_count": 32,
   "metadata": {},
   "outputs": [
    {
     "name": "stdout",
     "output_type": "stream",
     "text": [
      "(15,)\n"
     ]
    }
   ],
   "source": [
    "from sklearn.tree import DecisionTreeClassifier\n",
    "\n",
    "max_accuracy = 0\n",
    "\n",
    "\n",
    "for x in range(200):\n",
    "    dt = DecisionTreeClassifier(random_state=x)\n",
    "    dt.fit(X_train,Y_train)\n",
    "    Y_pred_dt = dt.predict(X_test)\n",
    "    current_accuracy = round(accuracy_score(Y_pred_dt,Y_test)*100,2)\n",
    "    if(current_accuracy>max_accuracy):\n",
    "        max_accuracy = current_accuracy\n",
    "        best_x = x\n",
    "        \n",
    "#print(max_accuracy)\n",
    "#print(best_x)\n",
    "\n",
    "\n",
    "dt = DecisionTreeClassifier(random_state=best_x)\n",
    "dt.fit(X_train,Y_train)\n",
    "Y_pred_dt = dt.predict(X_test)\n",
    "print(Y_pred_dt.shape)\n"
   ]
  },
  {
   "cell_type": "code",
   "execution_count": 33,
   "metadata": {},
   "outputs": [
    {
     "name": "stdout",
     "output_type": "stream",
     "text": [
      "The accuracy score achieved using Decision Tree is: 46.67 %\n"
     ]
    }
   ],
   "source": [
    "score_dt = round(accuracy_score(Y_pred_dt,Y_test)*100,2)\n",
    "\n",
    "print(\"The accuracy score achieved using Decision Tree is: \"+str(score_dt)+\" %\")"
   ]
  },
  {
   "cell_type": "markdown",
   "metadata": {},
   "source": [
    "Random Forest"
   ]
  },
  {
   "cell_type": "code",
   "execution_count": 34,
   "metadata": {},
   "outputs": [
    {
     "name": "stdout",
     "output_type": "stream",
     "text": [
      "80.0\n",
      "338\n"
     ]
    }
   ],
   "source": [
    "from sklearn.ensemble import RandomForestClassifier\n",
    "\n",
    "max_accuracy = 0\n",
    "\n",
    "\n",
    "for x in range(2000):\n",
    "    rf = RandomForestClassifier(random_state=x)\n",
    "    rf.fit(X_train,Y_train)\n",
    "    Y_pred_rf = rf.predict(X_test)\n",
    "    current_accuracy = round(accuracy_score(Y_pred_rf,Y_test)*100,2)\n",
    "    if(current_accuracy>max_accuracy):\n",
    "        max_accuracy = current_accuracy\n",
    "        best_x = x\n",
    "        \n",
    "print(max_accuracy)\n",
    "print(best_x)\n",
    "\n",
    "rf = RandomForestClassifier(random_state=best_x)\n",
    "rf.fit(X_train,Y_train)\n",
    "Y_pred_rf = rf.predict(X_test)"
   ]
  },
  {
   "cell_type": "code",
   "execution_count": 35,
   "metadata": {},
   "outputs": [
    {
     "data": {
      "text/plain": [
       "(15,)"
      ]
     },
     "execution_count": 35,
     "metadata": {},
     "output_type": "execute_result"
    }
   ],
   "source": [
    "Y_pred_rf.shape"
   ]
  },
  {
   "cell_type": "code",
   "execution_count": 36,
   "metadata": {},
   "outputs": [
    {
     "name": "stdout",
     "output_type": "stream",
     "text": [
      "The accuracy score achieved using Random Forest is: 80.0 %\n"
     ]
    }
   ],
   "source": [
    "\n",
    "score_rf = round(accuracy_score(Y_pred_rf,Y_test)*100,2)\n",
    "\n",
    "print(\"The accuracy score achieved using Random Forest is: \"+str(score_rf)+\" %\")"
   ]
  },
  {
   "cell_type": "markdown",
   "metadata": {},
   "source": [
    "XGBoost"
   ]
  },
  {
   "cell_type": "code",
   "execution_count": 37,
   "metadata": {},
   "outputs": [
    {
     "name": "stdout",
     "output_type": "stream",
     "text": [
      "[15:33:49] WARNING: C:/Users/Administrator/workspace/xgboost-win64_release_1.4.0/src/learner.cc:1095: Starting in XGBoost 1.3.0, the default evaluation metric used with the objective 'multi:softprob' was changed from 'merror' to 'mlogloss'. Explicitly set eval_metric if you'd like to restore the old behavior.\n"
     ]
    }
   ],
   "source": [
    "import xgboost as xgb\n",
    "\n",
    "xgb_model = xgb.XGBClassifier(objective=\"binary:logistic\", random_state=42)\n",
    "xgb_model.fit(X_train, Y_train)\n",
    "\n",
    "Y_pred_xgb = xgb_model.predict(X_test)"
   ]
  },
  {
   "cell_type": "code",
   "execution_count": 38,
   "metadata": {},
   "outputs": [
    {
     "data": {
      "text/plain": [
       "(15,)"
      ]
     },
     "execution_count": 38,
     "metadata": {},
     "output_type": "execute_result"
    }
   ],
   "source": [
    "Y_pred_xgb.shape\n"
   ]
  },
  {
   "cell_type": "code",
   "execution_count": 39,
   "metadata": {},
   "outputs": [
    {
     "name": "stdout",
     "output_type": "stream",
     "text": [
      "The accuracy score achieved using XGBoost is: 53.33 %\n"
     ]
    }
   ],
   "source": [
    "score_xgb = round(accuracy_score(Y_pred_xgb,Y_test)*100,2)\n",
    "\n",
    "print(\"The accuracy score achieved using XGBoost is: \"+str(score_xgb)+\" %\")"
   ]
  },
  {
   "cell_type": "code",
   "execution_count": 40,
   "metadata": {},
   "outputs": [
    {
     "name": "stdout",
     "output_type": "stream",
     "text": [
      "The accuracy score achieved using Logistic Regression is: 60.0 %\n",
      "The accuracy score achieved using Naive Bayes is: 40.0 %\n",
      "The accuracy score achieved using Support Vector Machine is: 60.0 %\n",
      "The accuracy score achieved using K-Nearest Neighbors is: 66.67 %\n",
      "The accuracy score achieved using Decision Tree is: 46.67 %\n",
      "The accuracy score achieved using Random Forest is: 80.0 %\n",
      "The accuracy score achieved using XGBoost is: 53.33 %\n"
     ]
    }
   ],
   "source": [
    "scores = [score_lr,score_nb,score_svm,score_knn,score_dt,score_rf,score_xgb]\n",
    "algorithms = [\"Logistic Regression\",\"Naive Bayes\",\"Support Vector Machine\",\"K-Nearest Neighbors\",\"Decision Tree\",\"Random Forest\",\"XGBoost\"]    \n",
    "\n",
    "for i in range(len(algorithms)):\n",
    "    print(\"The accuracy score achieved using \"+algorithms[i]+\" is: \"+str(scores[i])+\" %\")"
   ]
  },
  {
   "cell_type": "code",
   "execution_count": 41,
   "metadata": {},
   "outputs": [
    {
     "data": {
      "text/plain": [
       "<AxesSubplot:xlabel='Algorithms', ylabel='Accuracy score'>"
      ]
     },
     "execution_count": 41,
     "metadata": {},
     "output_type": "execute_result"
    },
    {
     "data": {
      "image/png": "[encoded data removed]",
      "text/plain": [
       "<Figure size 1080x576 with 1 Axes>"
      ]
     },
     "metadata": {},
     "output_type": "display_data"
    }
   ],
   "source": [
    "sns.set(rc={'figure.figsize':(15,8)})\n",
    "plt.xlabel(\"Algorithms\")\n",
    "plt.ylabel(\"Accuracy score\")\n",
    "\n",
    "sns.barplot(algorithms,scores)"
   ]
  },
  {
   "cell_type": "code",
   "execution_count": 43,
   "metadata": {},
   "outputs": [],
   "source": [
    "df= pd.read_csv('Emotion_features_extract.csv')"
   ]
  },
  {
   "cell_type": "code",
   "execution_count": 44,
   "metadata": {},
   "outputs": [
    {
     "data": {
      "text/html": [
       "<div>\n",
       "<style scoped>\n",
       "    .dataframe tbody tr th:only-of-type {\n",
       "        vertical-align: middle;\n",
       "    }\n",
       "\n",
       "    .dataframe tbody tr th {\n",
       "        vertical-align: top;\n",
       "    }\n",
       "\n",
       "    .dataframe thead th {\n",
       "        text-align: right;\n",
       "    }\n",
       "</style>\n",
       "<table border=\"1\" class=\"dataframe\">\n",
       "  <thead>\n",
       "    <tr style=\"text-align: right;\">\n",
       "      <th></th>\n",
       "      <th>Unnamed: 0</th>\n",
       "      <th>song_name</th>\n",
       "      <th>tempo</th>\n",
       "      <th>total_beats</th>\n",
       "      <th>average_beats</th>\n",
       "      <th>chroma_stft_mean</th>\n",
       "      <th>chroma_stft_std</th>\n",
       "      <th>chroma_stft_var</th>\n",
       "      <th>chroma_cq_mean</th>\n",
       "      <th>chroma_cq_std</th>\n",
       "      <th>...</th>\n",
       "      <th>zcr_var</th>\n",
       "      <th>harm_mean</th>\n",
       "      <th>harm_std</th>\n",
       "      <th>harm_var</th>\n",
       "      <th>perc_mean</th>\n",
       "      <th>perc_std</th>\n",
       "      <th>perc_var</th>\n",
       "      <th>frame_mean</th>\n",
       "      <th>frame_std</th>\n",
       "      <th>frame_var</th>\n",
       "    </tr>\n",
       "  </thead>\n",
       "  <tbody>\n",
       "    <tr>\n",
       "      <th>0</th>\n",
       "      <td>1</td>\n",
       "      <td>2U.mp3</td>\n",
       "      <td>143.554688</td>\n",
       "      <td>181528</td>\n",
       "      <td>1287.432624</td>\n",
       "      <td>0.337507</td>\n",
       "      <td>0.297164</td>\n",
       "      <td>0.088306</td>\n",
       "      <td>0.378381</td>\n",
       "      <td>0.262614</td>\n",
       "      <td>...</td>\n",
       "      <td>0.005197</td>\n",
       "      <td>0.000005</td>\n",
       "      <td>0.195518</td>\n",
       "      <td>0.038227</td>\n",
       "      <td>0.000047</td>\n",
       "      <td>0.087004</td>\n",
       "      <td>0.007570</td>\n",
       "      <td>3.503891</td>\n",
       "      <td>1.884495</td>\n",
       "      <td>3.551321</td>\n",
       "    </tr>\n",
       "    <tr>\n",
       "      <th>1</th>\n",
       "      <td>2</td>\n",
       "      <td>Adele - Hello.mp3</td>\n",
       "      <td>172.265625</td>\n",
       "      <td>198026</td>\n",
       "      <td>1692.529915</td>\n",
       "      <td>0.592441</td>\n",
       "      <td>0.260705</td>\n",
       "      <td>0.067967</td>\n",
       "      <td>0.647986</td>\n",
       "      <td>0.222002</td>\n",
       "      <td>...</td>\n",
       "      <td>0.003062</td>\n",
       "      <td>-0.000176</td>\n",
       "      <td>0.007754</td>\n",
       "      <td>0.000060</td>\n",
       "      <td>-0.000293</td>\n",
       "      <td>0.009900</td>\n",
       "      <td>0.000098</td>\n",
       "      <td>31.933243</td>\n",
       "      <td>10.268238</td>\n",
       "      <td>105.436712</td>\n",
       "    </tr>\n",
       "    <tr>\n",
       "      <th>2</th>\n",
       "      <td>3</td>\n",
       "      <td>Alan Walker - Darkside (feat. AuRa and Tomine ...</td>\n",
       "      <td>86.132812</td>\n",
       "      <td>108798</td>\n",
       "      <td>1279.976471</td>\n",
       "      <td>0.298282</td>\n",
       "      <td>0.300772</td>\n",
       "      <td>0.090464</td>\n",
       "      <td>0.340307</td>\n",
       "      <td>0.288041</td>\n",
       "      <td>...</td>\n",
       "      <td>0.004128</td>\n",
       "      <td>-0.000010</td>\n",
       "      <td>0.173936</td>\n",
       "      <td>0.030254</td>\n",
       "      <td>-0.000036</td>\n",
       "      <td>0.073001</td>\n",
       "      <td>0.005329</td>\n",
       "      <td>7.303837</td>\n",
       "      <td>3.918483</td>\n",
       "      <td>15.354511</td>\n",
       "    </tr>\n",
       "    <tr>\n",
       "      <th>3</th>\n",
       "      <td>4</td>\n",
       "      <td>Alan Walker - Diamond Heart (feat. Sophia Soma...</td>\n",
       "      <td>89.102909</td>\n",
       "      <td>109606</td>\n",
       "      <td>1336.658537</td>\n",
       "      <td>0.283401</td>\n",
       "      <td>0.298075</td>\n",
       "      <td>0.088849</td>\n",
       "      <td>0.346237</td>\n",
       "      <td>0.278222</td>\n",
       "      <td>...</td>\n",
       "      <td>0.002587</td>\n",
       "      <td>0.000002</td>\n",
       "      <td>0.125562</td>\n",
       "      <td>0.015766</td>\n",
       "      <td>-0.000021</td>\n",
       "      <td>0.051719</td>\n",
       "      <td>0.002675</td>\n",
       "      <td>6.856853</td>\n",
       "      <td>1.921037</td>\n",
       "      <td>3.690383</td>\n",
       "    </tr>\n",
       "    <tr>\n",
       "      <th>4</th>\n",
       "      <td>5</td>\n",
       "      <td>Alan Walker - Different World feat. Sofia Cars...</td>\n",
       "      <td>129.199219</td>\n",
       "      <td>163991</td>\n",
       "      <td>1281.179688</td>\n",
       "      <td>0.366581</td>\n",
       "      <td>0.294307</td>\n",
       "      <td>0.086616</td>\n",
       "      <td>0.391032</td>\n",
       "      <td>0.295567</td>\n",
       "      <td>...</td>\n",
       "      <td>0.005414</td>\n",
       "      <td>-0.000030</td>\n",
       "      <td>0.183346</td>\n",
       "      <td>0.033616</td>\n",
       "      <td>0.000082</td>\n",
       "      <td>0.106256</td>\n",
       "      <td>0.011290</td>\n",
       "      <td>7.022875</td>\n",
       "      <td>3.666264</td>\n",
       "      <td>13.441495</td>\n",
       "    </tr>\n",
       "  </tbody>\n",
       "</table>\n",
       "<p>5 rows × 56 columns</p>\n",
       "</div>"
      ],
      "text/plain": [
       "   Unnamed: 0                                          song_name       tempo  \\\n",
       "0           1                                             2U.mp3  143.554688   \n",
       "1           2                                  Adele - Hello.mp3  172.265625   \n",
       "2           3  Alan Walker - Darkside (feat. AuRa and Tomine ...   86.132812   \n",
       "3           4  Alan Walker - Diamond Heart (feat. Sophia Soma...   89.102909   \n",
       "4           5  Alan Walker - Different World feat. Sofia Cars...  129.199219   \n",
       "\n",
       "   total_beats  average_beats  chroma_stft_mean  chroma_stft_std  \\\n",
       "0       181528    1287.432624          0.337507         0.297164   \n",
       "1       198026    1692.529915          0.592441         0.260705   \n",
       "2       108798    1279.976471          0.298282         0.300772   \n",
       "3       109606    1336.658537          0.283401         0.298075   \n",
       "4       163991    1281.179688          0.366581         0.294307   \n",
       "\n",
       "   chroma_stft_var  chroma_cq_mean  chroma_cq_std  ...   zcr_var  harm_mean  \\\n",
       "0         0.088306        0.378381       0.262614  ...  0.005197   0.000005   \n",
       "1         0.067967        0.647986       0.222002  ...  0.003062  -0.000176   \n",
       "2         0.090464        0.340307       0.288041  ...  0.004128  -0.000010   \n",
       "3         0.088849        0.346237       0.278222  ...  0.002587   0.000002   \n",
       "4         0.086616        0.391032       0.295567  ...  0.005414  -0.000030   \n",
       "\n",
       "   harm_std  harm_var  perc_mean  perc_std  perc_var  frame_mean  frame_std  \\\n",
       "0  0.195518  0.038227   0.000047  0.087004  0.007570    3.503891   1.884495   \n",
       "1  0.007754  0.000060  -0.000293  0.009900  0.000098   31.933243  10.268238   \n",
       "2  0.173936  0.030254  -0.000036  0.073001  0.005329    7.303837   3.918483   \n",
       "3  0.125562  0.015766  -0.000021  0.051719  0.002675    6.856853   1.921037   \n",
       "4  0.183346  0.033616   0.000082  0.106256  0.011290    7.022875   3.666264   \n",
       "\n",
       "    frame_var  \n",
       "0    3.551321  \n",
       "1  105.436712  \n",
       "2   15.354511  \n",
       "3    3.690383  \n",
       "4   13.441495  \n",
       "\n",
       "[5 rows x 56 columns]"
      ]
     },
     "execution_count": 44,
     "metadata": {},
     "output_type": "execute_result"
    }
   ],
   "source": [
    "df.head()"
   ]
  },
  {
   "cell_type": "code",
   "execution_count": 45,
   "metadata": {},
   "outputs": [],
   "source": [
    "predictors = df.loc[:,'tempo':]\n",
    "prednames = list(predictors)\n",
    "for name in prednames:\n",
    "    predictors[name] = (predictors[name] - predictors[name].min()) / (predictors[name].max() - predictors[name].min())"
   ]
  },
  {
   "cell_type": "code",
   "execution_count": 46,
   "metadata": {},
   "outputs": [],
   "source": [
    "songs = df['song_name']"
   ]
  },
  {
   "cell_type": "code",
   "execution_count": 47,
   "metadata": {},
   "outputs": [
    {
     "data": {
      "text/plain": [
       "0                                                2U.mp3\n",
       "1                                     Adele - Hello.mp3\n",
       "2     Alan Walker - Darkside (feat. AuRa and Tomine ...\n",
       "3     Alan Walker - Diamond Heart (feat. Sophia Soma...\n",
       "4     Alan Walker - Different World feat. Sofia Cars...\n",
       "                            ...                        \n",
       "65                                              Wow.mp3\n",
       "66    XXXTENTACION & Lil Pump - Arms Around You (Lyr...\n",
       "67    Zara Larsson - Ain't My Fault (Official Video)...\n",
       "68                   ZAYN - Rainberry (Lyric Video).mp3\n",
       "69    Zedd, Grey - The Middle (Lyrics) ft. Maren Mor...\n",
       "Name: song_name, Length: 70, dtype: object"
      ]
     },
     "execution_count": 47,
     "metadata": {},
     "output_type": "execute_result"
    }
   ],
   "source": [
    "songs"
   ]
  },
  {
   "cell_type": "code",
   "execution_count": 48,
   "metadata": {},
   "outputs": [],
   "source": [
    "output = rf.predict(predictors)"
   ]
  },
  {
   "cell_type": "code",
   "execution_count": 54,
   "metadata": {},
   "outputs": [],
   "source": [
    "rf_predicted = pd.concat([songs,pd.DataFrame(output,columns=['class']),predictors],axis=1)"
   ]
  },
  {
   "cell_type": "code",
   "execution_count": 55,
   "metadata": {},
   "outputs": [
    {
     "data": {
      "text/html": [
       "<div>\n",
       "<style scoped>\n",
       "    .dataframe tbody tr th:only-of-type {\n",
       "        vertical-align: middle;\n",
       "    }\n",
       "\n",
       "    .dataframe tbody tr th {\n",
       "        vertical-align: top;\n",
       "    }\n",
       "\n",
       "    .dataframe thead th {\n",
       "        text-align: right;\n",
       "    }\n",
       "</style>\n",
       "<table border=\"1\" class=\"dataframe\">\n",
       "  <thead>\n",
       "    <tr style=\"text-align: right;\">\n",
       "      <th></th>\n",
       "      <th>song_name</th>\n",
       "      <th>class</th>\n",
       "      <th>tempo</th>\n",
       "      <th>total_beats</th>\n",
       "      <th>average_beats</th>\n",
       "      <th>chroma_stft_mean</th>\n",
       "      <th>chroma_stft_std</th>\n",
       "      <th>chroma_stft_var</th>\n",
       "      <th>chroma_cq_mean</th>\n",
       "      <th>chroma_cq_std</th>\n",
       "      <th>...</th>\n",
       "      <th>zcr_var</th>\n",
       "      <th>harm_mean</th>\n",
       "      <th>harm_std</th>\n",
       "      <th>harm_var</th>\n",
       "      <th>perc_mean</th>\n",
       "      <th>perc_std</th>\n",
       "      <th>perc_var</th>\n",
       "      <th>frame_mean</th>\n",
       "      <th>frame_std</th>\n",
       "      <th>frame_var</th>\n",
       "    </tr>\n",
       "  </thead>\n",
       "  <tbody>\n",
       "    <tr>\n",
       "      <th>0</th>\n",
       "      <td>2U.mp3</td>\n",
       "      <td>sad</td>\n",
       "      <td>0.571759</td>\n",
       "      <td>0.652573</td>\n",
       "      <td>0.319039</td>\n",
       "      <td>0.274588</td>\n",
       "      <td>0.487642</td>\n",
       "      <td>0.456309</td>\n",
       "      <td>0.248680</td>\n",
       "      <td>0.457973</td>\n",
       "      <td>...</td>\n",
       "      <td>0.325239</td>\n",
       "      <td>0.695645</td>\n",
       "      <td>0.602880</td>\n",
       "      <td>0.374820</td>\n",
       "      <td>0.414739</td>\n",
       "      <td>0.469630</td>\n",
       "      <td>0.247359</td>\n",
       "      <td>0.056487</td>\n",
       "      <td>0.093822</td>\n",
       "      <td>0.024119</td>\n",
       "    </tr>\n",
       "    <tr>\n",
       "      <th>1</th>\n",
       "      <td>Adele - Hello.mp3</td>\n",
       "      <td>angry</td>\n",
       "      <td>0.794444</td>\n",
       "      <td>0.769003</td>\n",
       "      <td>1.000000</td>\n",
       "      <td>1.000000</td>\n",
       "      <td>0.000000</td>\n",
       "      <td>0.000000</td>\n",
       "      <td>1.000000</td>\n",
       "      <td>0.000000</td>\n",
       "      <td>...</td>\n",
       "      <td>0.165833</td>\n",
       "      <td>0.662240</td>\n",
       "      <td>0.000000</td>\n",
       "      <td>0.000000</td>\n",
       "      <td>0.337370</td>\n",
       "      <td>0.000000</td>\n",
       "      <td>0.000000</td>\n",
       "      <td>1.000000</td>\n",
       "      <td>1.000000</td>\n",
       "      <td>1.000000</td>\n",
       "    </tr>\n",
       "    <tr>\n",
       "      <th>2</th>\n",
       "      <td>Alan Walker - Darkside (feat. AuRa and Tomine ...</td>\n",
       "      <td>sad</td>\n",
       "      <td>0.126389</td>\n",
       "      <td>0.139302</td>\n",
       "      <td>0.306506</td>\n",
       "      <td>0.162971</td>\n",
       "      <td>0.535894</td>\n",
       "      <td>0.504704</td>\n",
       "      <td>0.142575</td>\n",
       "      <td>0.744711</td>\n",
       "      <td>...</td>\n",
       "      <td>0.245454</td>\n",
       "      <td>0.692909</td>\n",
       "      <td>0.533585</td>\n",
       "      <td>0.296517</td>\n",
       "      <td>0.395922</td>\n",
       "      <td>0.384339</td>\n",
       "      <td>0.173183</td>\n",
       "      <td>0.182599</td>\n",
       "      <td>0.313671</td>\n",
       "      <td>0.137172</td>\n",
       "    </tr>\n",
       "    <tr>\n",
       "      <th>3</th>\n",
       "      <td>Alan Walker - Diamond Heart (feat. Sophia Soma...</td>\n",
       "      <td>sad</td>\n",
       "      <td>0.149425</td>\n",
       "      <td>0.145005</td>\n",
       "      <td>0.401787</td>\n",
       "      <td>0.120629</td>\n",
       "      <td>0.499835</td>\n",
       "      <td>0.468482</td>\n",
       "      <td>0.159102</td>\n",
       "      <td>0.633984</td>\n",
       "      <td>...</td>\n",
       "      <td>0.130375</td>\n",
       "      <td>0.695268</td>\n",
       "      <td>0.378262</td>\n",
       "      <td>0.154237</td>\n",
       "      <td>0.399305</td>\n",
       "      <td>0.254712</td>\n",
       "      <td>0.085309</td>\n",
       "      <td>0.167765</td>\n",
       "      <td>0.097772</td>\n",
       "      <td>0.025451</td>\n",
       "    </tr>\n",
       "    <tr>\n",
       "      <th>4</th>\n",
       "      <td>Alan Walker - Different World feat. Sofia Cars...</td>\n",
       "      <td>sad</td>\n",
       "      <td>0.460417</td>\n",
       "      <td>0.528811</td>\n",
       "      <td>0.308528</td>\n",
       "      <td>0.357317</td>\n",
       "      <td>0.449425</td>\n",
       "      <td>0.418394</td>\n",
       "      <td>0.283933</td>\n",
       "      <td>0.829579</td>\n",
       "      <td>...</td>\n",
       "      <td>0.341475</td>\n",
       "      <td>0.689324</td>\n",
       "      <td>0.563800</td>\n",
       "      <td>0.329535</td>\n",
       "      <td>0.422608</td>\n",
       "      <td>0.586890</td>\n",
       "      <td>0.370533</td>\n",
       "      <td>0.173275</td>\n",
       "      <td>0.286409</td>\n",
       "      <td>0.118849</td>\n",
       "    </tr>\n",
       "    <tr>\n",
       "      <th>...</th>\n",
       "      <td>...</td>\n",
       "      <td>...</td>\n",
       "      <td>...</td>\n",
       "      <td>...</td>\n",
       "      <td>...</td>\n",
       "      <td>...</td>\n",
       "      <td>...</td>\n",
       "      <td>...</td>\n",
       "      <td>...</td>\n",
       "      <td>...</td>\n",
       "      <td>...</td>\n",
       "      <td>...</td>\n",
       "      <td>...</td>\n",
       "      <td>...</td>\n",
       "      <td>...</td>\n",
       "      <td>...</td>\n",
       "      <td>...</td>\n",
       "      <td>...</td>\n",
       "      <td>...</td>\n",
       "      <td>...</td>\n",
       "      <td>...</td>\n",
       "    </tr>\n",
       "    <tr>\n",
       "      <th>65</th>\n",
       "      <td>Wow.mp3</td>\n",
       "      <td>happy</td>\n",
       "      <td>0.229167</td>\n",
       "      <td>0.257348</td>\n",
       "      <td>0.666855</td>\n",
       "      <td>0.452473</td>\n",
       "      <td>0.899337</td>\n",
       "      <td>0.887984</td>\n",
       "      <td>0.316708</td>\n",
       "      <td>0.579355</td>\n",
       "      <td>...</td>\n",
       "      <td>0.165636</td>\n",
       "      <td>0.702740</td>\n",
       "      <td>1.000000</td>\n",
       "      <td>1.000000</td>\n",
       "      <td>0.304865</td>\n",
       "      <td>0.796402</td>\n",
       "      <td>0.651707</td>\n",
       "      <td>0.068817</td>\n",
       "      <td>0.140574</td>\n",
       "      <td>0.041526</td>\n",
       "    </tr>\n",
       "    <tr>\n",
       "      <th>66</th>\n",
       "      <td>XXXTENTACION &amp; Lil Pump - Arms Around You (Lyr...</td>\n",
       "      <td>sad</td>\n",
       "      <td>0.571759</td>\n",
       "      <td>0.661910</td>\n",
       "      <td>0.319461</td>\n",
       "      <td>0.377760</td>\n",
       "      <td>0.442388</td>\n",
       "      <td>0.411452</td>\n",
       "      <td>0.173100</td>\n",
       "      <td>0.753615</td>\n",
       "      <td>...</td>\n",
       "      <td>0.172408</td>\n",
       "      <td>0.697048</td>\n",
       "      <td>0.565531</td>\n",
       "      <td>0.331480</td>\n",
       "      <td>0.398690</td>\n",
       "      <td>0.574719</td>\n",
       "      <td>0.356607</td>\n",
       "      <td>0.159404</td>\n",
       "      <td>0.182648</td>\n",
       "      <td>0.060255</td>\n",
       "    </tr>\n",
       "    <tr>\n",
       "      <th>67</th>\n",
       "      <td>Zara Larsson - Ain't My Fault (Official Video)...</td>\n",
       "      <td>sad</td>\n",
       "      <td>0.571759</td>\n",
       "      <td>0.647189</td>\n",
       "      <td>0.325336</td>\n",
       "      <td>0.442387</td>\n",
       "      <td>0.516665</td>\n",
       "      <td>0.485348</td>\n",
       "      <td>0.252327</td>\n",
       "      <td>0.829121</td>\n",
       "      <td>...</td>\n",
       "      <td>0.728876</td>\n",
       "      <td>0.696064</td>\n",
       "      <td>0.651265</td>\n",
       "      <td>0.434918</td>\n",
       "      <td>0.401073</td>\n",
       "      <td>0.442178</td>\n",
       "      <td>0.222068</td>\n",
       "      <td>0.060802</td>\n",
       "      <td>0.053083</td>\n",
       "      <td>0.011873</td>\n",
       "    </tr>\n",
       "    <tr>\n",
       "      <th>68</th>\n",
       "      <td>ZAYN - Rainberry (Lyric Video).mp3</td>\n",
       "      <td>happy</td>\n",
       "      <td>0.174107</td>\n",
       "      <td>0.186600</td>\n",
       "      <td>0.288443</td>\n",
       "      <td>0.283986</td>\n",
       "      <td>0.824771</td>\n",
       "      <td>0.806646</td>\n",
       "      <td>0.360609</td>\n",
       "      <td>0.628457</td>\n",
       "      <td>...</td>\n",
       "      <td>0.118365</td>\n",
       "      <td>0.693208</td>\n",
       "      <td>0.740972</td>\n",
       "      <td>0.558143</td>\n",
       "      <td>0.356789</td>\n",
       "      <td>0.621441</td>\n",
       "      <td>0.411508</td>\n",
       "      <td>0.038030</td>\n",
       "      <td>0.084708</td>\n",
       "      <td>0.021143</td>\n",
       "    </tr>\n",
       "    <tr>\n",
       "      <th>69</th>\n",
       "      <td>Zedd, Grey - The Middle (Lyrics) ft. Maren Mor...</td>\n",
       "      <td>happy</td>\n",
       "      <td>0.293403</td>\n",
       "      <td>0.288972</td>\n",
       "      <td>0.256213</td>\n",
       "      <td>0.154292</td>\n",
       "      <td>0.609503</td>\n",
       "      <td>0.579655</td>\n",
       "      <td>0.271862</td>\n",
       "      <td>0.737598</td>\n",
       "      <td>...</td>\n",
       "      <td>0.543502</td>\n",
       "      <td>0.732195</td>\n",
       "      <td>0.563371</td>\n",
       "      <td>0.329054</td>\n",
       "      <td>0.630114</td>\n",
       "      <td>0.615581</td>\n",
       "      <td>0.404408</td>\n",
       "      <td>0.099680</td>\n",
       "      <td>0.192043</td>\n",
       "      <td>0.064833</td>\n",
       "    </tr>\n",
       "  </tbody>\n",
       "</table>\n",
       "<p>70 rows × 56 columns</p>\n",
       "</div>"
      ],
      "text/plain": [
       "                                            song_name  class     tempo  \\\n",
       "0                                              2U.mp3    sad  0.571759   \n",
       "1                                   Adele - Hello.mp3  angry  0.794444   \n",
       "2   Alan Walker - Darkside (feat. AuRa and Tomine ...    sad  0.126389   \n",
       "3   Alan Walker - Diamond Heart (feat. Sophia Soma...    sad  0.149425   \n",
       "4   Alan Walker - Different World feat. Sofia Cars...    sad  0.460417   \n",
       "..                                                ...    ...       ...   \n",
       "65                                            Wow.mp3  happy  0.229167   \n",
       "66  XXXTENTACION & Lil Pump - Arms Around You (Lyr...    sad  0.571759   \n",
       "67  Zara Larsson - Ain't My Fault (Official Video)...    sad  0.571759   \n",
       "68                 ZAYN - Rainberry (Lyric Video).mp3  happy  0.174107   \n",
       "69  Zedd, Grey - The Middle (Lyrics) ft. Maren Mor...  happy  0.293403   \n",
       "\n",
       "    total_beats  average_beats  chroma_stft_mean  chroma_stft_std  \\\n",
       "0      0.652573       0.319039          0.274588         0.487642   \n",
       "1      0.769003       1.000000          1.000000         0.000000   \n",
       "2      0.139302       0.306506          0.162971         0.535894   \n",
       "3      0.145005       0.401787          0.120629         0.499835   \n",
       "4      0.528811       0.308528          0.357317         0.449425   \n",
       "..          ...            ...               ...              ...   \n",
       "65     0.257348       0.666855          0.452473         0.899337   \n",
       "66     0.661910       0.319461          0.377760         0.442388   \n",
       "67     0.647189       0.325336          0.442387         0.516665   \n",
       "68     0.186600       0.288443          0.283986         0.824771   \n",
       "69     0.288972       0.256213          0.154292         0.609503   \n",
       "\n",
       "    chroma_stft_var  chroma_cq_mean  chroma_cq_std  ...   zcr_var  harm_mean  \\\n",
       "0          0.456309        0.248680       0.457973  ...  0.325239   0.695645   \n",
       "1          0.000000        1.000000       0.000000  ...  0.165833   0.662240   \n",
       "2          0.504704        0.142575       0.744711  ...  0.245454   0.692909   \n",
       "3          0.468482        0.159102       0.633984  ...  0.130375   0.695268   \n",
       "4          0.418394        0.283933       0.829579  ...  0.341475   0.689324   \n",
       "..              ...             ...            ...  ...       ...        ...   \n",
       "65         0.887984        0.316708       0.579355  ...  0.165636   0.702740   \n",
       "66         0.411452        0.173100       0.753615  ...  0.172408   0.697048   \n",
       "67         0.485348        0.252327       0.829121  ...  0.728876   0.696064   \n",
       "68         0.806646        0.360609       0.628457  ...  0.118365   0.693208   \n",
       "69         0.579655        0.271862       0.737598  ...  0.543502   0.732195   \n",
       "\n",
       "    harm_std  harm_var  perc_mean  perc_std  perc_var  frame_mean  frame_std  \\\n",
       "0   0.602880  0.374820   0.414739  0.469630  0.247359    0.056487   0.093822   \n",
       "1   0.000000  0.000000   0.337370  0.000000  0.000000    1.000000   1.000000   \n",
       "2   0.533585  0.296517   0.395922  0.384339  0.173183    0.182599   0.313671   \n",
       "3   0.378262  0.154237   0.399305  0.254712  0.085309    0.167765   0.097772   \n",
       "4   0.563800  0.329535   0.422608  0.586890  0.370533    0.173275   0.286409   \n",
       "..       ...       ...        ...       ...       ...         ...        ...   \n",
       "65  1.000000  1.000000   0.304865  0.796402  0.651707    0.068817   0.140574   \n",
       "66  0.565531  0.331480   0.398690  0.574719  0.356607    0.159404   0.182648   \n",
       "67  0.651265  0.434918   0.401073  0.442178  0.222068    0.060802   0.053083   \n",
       "68  0.740972  0.558143   0.356789  0.621441  0.411508    0.038030   0.084708   \n",
       "69  0.563371  0.329054   0.630114  0.615581  0.404408    0.099680   0.192043   \n",
       "\n",
       "    frame_var  \n",
       "0    0.024119  \n",
       "1    1.000000  \n",
       "2    0.137172  \n",
       "3    0.025451  \n",
       "4    0.118849  \n",
       "..        ...  \n",
       "65   0.041526  \n",
       "66   0.060255  \n",
       "67   0.011873  \n",
       "68   0.021143  \n",
       "69   0.064833  \n",
       "\n",
       "[70 rows x 56 columns]"
      ]
     },
     "execution_count": 55,
     "metadata": {},
     "output_type": "execute_result"
    }
   ],
   "source": [
    "rf_predicted"
   ]
  },
  {
   "cell_type": "code",
   "execution_count": 56,
   "metadata": {},
   "outputs": [],
   "source": [
    "rf_predicted.to_csv('Project/rf_predicted.csv')"
   ]
  },
  {
   "cell_type": "code",
   "execution_count": null,
   "metadata": {},
   "outputs": [],
   "source": []
  }
 ],
 "metadata": {
  "kernelspec": {
   "display_name": "Python 3",
   "language": "python",
   "name": "python3"
  },
  "language_info": {
   "codemirror_mode": {
    "name": "ipython",
    "version": 3
   },
   "file_extension": ".py",
   "mimetype": "text/x-python",
   "name": "python",
   "nbconvert_exporter": "python",
   "pygments_lexer": "ipython3",
   "version": "3.8.5"
  }
 },
 "nbformat": 4,
 "nbformat_minor": 4
}
